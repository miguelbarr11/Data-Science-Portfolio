{
 "cells": [
  {
   "cell_type": "markdown",
   "id": "624b1d8e",
   "metadata": {},
   "source": [
    "# Portfolio Optimization "
   ]
  },
  {
   "cell_type": "markdown",
   "id": "4de6f58f",
   "metadata": {},
   "source": [
    "## 1.- Efficient Frontier"
   ]
  },
  {
   "cell_type": "code",
   "execution_count": null,
   "id": "471c0380",
   "metadata": {},
   "outputs": [],
   "source": [
    "# source: https://towardsdatascience.com/efficient-frontier-in-python-detailed-tutorial-84a304f03e79"
   ]
  },
  {
   "cell_type": "code",
   "execution_count": 2,
   "id": "70aafd09",
   "metadata": {},
   "outputs": [],
   "source": [
    "# Data\n",
    "import pandas as pd\n",
    "from pandas_datareader import data as pdr #Economic and financial dataframes\n",
    "import numpy as np \n",
    "import yfinance as yf #Yahoo finance\n",
    "yf.pdr_override()\n",
    "\n",
    "from wasabi import msg #Command lines\n",
    "from sklearn.linear_model import ElasticNet\n",
    "from sklearn.metrics import auc, roc_curve, confusion_matrix\n",
    "from tqdm import tqdm  #Progress bar\n",
    "import datetime \n",
    "import shap #Models explanation"
   ]
  },
  {
   "cell_type": "markdown",
   "id": "dbd36bce",
   "metadata": {},
   "source": [
    "## Data"
   ]
  },
  {
   "cell_type": "code",
   "execution_count": 96,
   "id": "231e4ec4",
   "metadata": {},
   "outputs": [],
   "source": [
    "tickers = ['AAPL', 'GOOGL', 'GOOG', 'MSFT', 'AMZN', 'FB',\n",
    "           'BRK-A', 'BRK-B', 'TSLA', 'JPM', 'JNJ', 'NVDA',\n",
    "           'BAC', 'WMT', 'V', 'PG', 'MA', 'HD', 'UNH', 'DIS',\n",
    "           'CMCSA', 'XOM', 'KO', 'VZ', 'PFE', 'MRK', 'BMY', 'NKE',\n",
    "           'CVX', 'PEP', 'INTC', 'CSCO', 'NFLX', 'ADBE', 'ORCL', 'CRM',\n",
    "           'T', 'TMUS', 'C', 'ABT', 'TMO', 'ABBV', 'HON', 'MCD', 'AXP', 'PM',\n",
    "           'BA', 'NEE', 'MDT', 'PYPL', 'GE', 'COST', 'TXN', 'DHR', 'WFC', 'F',\n",
    "           'BAC-WT', 'UNP', 'ACN', 'LMT', 'CME', 'UPS', 'LOW', 'CVS', 'ADP', 'FIS',\n",
    "           'AMGN', 'SBUX', 'RTX', 'USB', 'MMM', 'BMY-RT', 'BLK', 'LLY', 'SPGI', 'DE',\n",
    "           'PLD', 'KO-PC', 'LIN', 'SLB', 'UPS-PA', 'IBM', 'SPG', 'EQIX', 'CMI', 'FDX',\n",
    "           'CCI', 'ZTS', 'BDX', 'TJX', 'ISRG', 'D', 'AON', 'MMC', 'JCI', 'PNC', 'SCHW',\n",
    "           'KMI', 'APD', 'ANTM']"
   ]
  },
  {
   "cell_type": "code",
   "execution_count": 101,
   "id": "ccf0c93f",
   "metadata": {},
   "outputs": [
    {
     "name": "stdout",
     "output_type": "stream",
     "text": [
      "[*********************100%***********************]  100 of 100 completed\n",
      "\n",
      "6 Failed downloads:\n",
      "- ANTM: No timezone found, symbol may be delisted\n",
      "- KO-PC: No timezone found, symbol may be delisted\n",
      "- BAC-WT: No timezone found, symbol may be delisted\n",
      "- FB: No timezone found, symbol may be delisted\n",
      "- BMY-RT: No timezone found, symbol may be delisted\n",
      "- UPS-PA: No timezone found, symbol may be delisted\n"
     ]
    },
    {
     "data": {
      "text/html": [
       "<div>\n",
       "<style scoped>\n",
       "    .dataframe tbody tr th:only-of-type {\n",
       "        vertical-align: middle;\n",
       "    }\n",
       "\n",
       "    .dataframe tbody tr th {\n",
       "        vertical-align: top;\n",
       "    }\n",
       "\n",
       "    .dataframe thead tr th {\n",
       "        text-align: left;\n",
       "    }\n",
       "\n",
       "    .dataframe thead tr:last-of-type th {\n",
       "        text-align: right;\n",
       "    }\n",
       "</style>\n",
       "<table border=\"1\" class=\"dataframe\">\n",
       "  <thead>\n",
       "    <tr>\n",
       "      <th></th>\n",
       "      <th colspan=\"10\" halign=\"left\">Adj Close</th>\n",
       "      <th>...</th>\n",
       "      <th colspan=\"10\" halign=\"left\">Volume</th>\n",
       "    </tr>\n",
       "    <tr>\n",
       "      <th></th>\n",
       "      <th>AAPL</th>\n",
       "      <th>ABBV</th>\n",
       "      <th>ABT</th>\n",
       "      <th>ACN</th>\n",
       "      <th>ADBE</th>\n",
       "      <th>ADP</th>\n",
       "      <th>AMGN</th>\n",
       "      <th>AMZN</th>\n",
       "      <th>AON</th>\n",
       "      <th>APD</th>\n",
       "      <th>...</th>\n",
       "      <th>UNH</th>\n",
       "      <th>UNP</th>\n",
       "      <th>UPS</th>\n",
       "      <th>USB</th>\n",
       "      <th>V</th>\n",
       "      <th>VZ</th>\n",
       "      <th>WFC</th>\n",
       "      <th>WMT</th>\n",
       "      <th>XOM</th>\n",
       "      <th>ZTS</th>\n",
       "    </tr>\n",
       "    <tr>\n",
       "      <th>Date</th>\n",
       "      <th></th>\n",
       "      <th></th>\n",
       "      <th></th>\n",
       "      <th></th>\n",
       "      <th></th>\n",
       "      <th></th>\n",
       "      <th></th>\n",
       "      <th></th>\n",
       "      <th></th>\n",
       "      <th></th>\n",
       "      <th></th>\n",
       "      <th></th>\n",
       "      <th></th>\n",
       "      <th></th>\n",
       "      <th></th>\n",
       "      <th></th>\n",
       "      <th></th>\n",
       "      <th></th>\n",
       "      <th></th>\n",
       "      <th></th>\n",
       "      <th></th>\n",
       "    </tr>\n",
       "  </thead>\n",
       "  <tbody>\n",
       "    <tr>\n",
       "      <th>2023-02-22 00:00:00</th>\n",
       "      <td>148.910004</td>\n",
       "      <td>150.669998</td>\n",
       "      <td>102.690002</td>\n",
       "      <td>269.630005</td>\n",
       "      <td>348.720001</td>\n",
       "      <td>221.674591</td>\n",
       "      <td>236.160004</td>\n",
       "      <td>95.790001</td>\n",
       "      <td>304.869995</td>\n",
       "      <td>278.290009</td>\n",
       "      <td>...</td>\n",
       "      <td>2982800</td>\n",
       "      <td>5816000</td>\n",
       "      <td>2376900</td>\n",
       "      <td>4583300</td>\n",
       "      <td>4621800</td>\n",
       "      <td>15086800</td>\n",
       "      <td>13402900</td>\n",
       "      <td>9948000</td>\n",
       "      <td>13973800</td>\n",
       "      <td>2103800</td>\n",
       "    </tr>\n",
       "    <tr>\n",
       "      <th>2023-02-23 00:00:00</th>\n",
       "      <td>149.399994</td>\n",
       "      <td>152.070007</td>\n",
       "      <td>102.550003</td>\n",
       "      <td>271.230011</td>\n",
       "      <td>347.019989</td>\n",
       "      <td>221.525436</td>\n",
       "      <td>237.619995</td>\n",
       "      <td>95.820000</td>\n",
       "      <td>304.480011</td>\n",
       "      <td>279.720001</td>\n",
       "      <td>...</td>\n",
       "      <td>2511800</td>\n",
       "      <td>3125400</td>\n",
       "      <td>2341200</td>\n",
       "      <td>4319300</td>\n",
       "      <td>5533800</td>\n",
       "      <td>16738200</td>\n",
       "      <td>14783600</td>\n",
       "      <td>7340400</td>\n",
       "      <td>11289400</td>\n",
       "      <td>1769000</td>\n",
       "    </tr>\n",
       "    <tr>\n",
       "      <th>2023-02-24 00:00:00</th>\n",
       "      <td>146.710007</td>\n",
       "      <td>152.710007</td>\n",
       "      <td>100.459999</td>\n",
       "      <td>266.529999</td>\n",
       "      <td>320.540009</td>\n",
       "      <td>220.332199</td>\n",
       "      <td>233.660004</td>\n",
       "      <td>93.500000</td>\n",
       "      <td>302.970001</td>\n",
       "      <td>280.980011</td>\n",
       "      <td>...</td>\n",
       "      <td>2940400</td>\n",
       "      <td>3371400</td>\n",
       "      <td>2674400</td>\n",
       "      <td>4141500</td>\n",
       "      <td>4414400</td>\n",
       "      <td>16431500</td>\n",
       "      <td>16040300</td>\n",
       "      <td>6874500</td>\n",
       "      <td>14351000</td>\n",
       "      <td>1843200</td>\n",
       "    </tr>\n",
       "    <tr>\n",
       "      <th>2023-02-27 00:00:00</th>\n",
       "      <td>147.919998</td>\n",
       "      <td>154.279999</td>\n",
       "      <td>99.769997</td>\n",
       "      <td>266.250000</td>\n",
       "      <td>322.320007</td>\n",
       "      <td>220.352097</td>\n",
       "      <td>234.449997</td>\n",
       "      <td>93.760002</td>\n",
       "      <td>302.589996</td>\n",
       "      <td>285.420013</td>\n",
       "      <td>...</td>\n",
       "      <td>3006200</td>\n",
       "      <td>12140400</td>\n",
       "      <td>2925400</td>\n",
       "      <td>4260200</td>\n",
       "      <td>4255300</td>\n",
       "      <td>14210900</td>\n",
       "      <td>15468200</td>\n",
       "      <td>5549100</td>\n",
       "      <td>11710500</td>\n",
       "      <td>1183700</td>\n",
       "    </tr>\n",
       "    <tr>\n",
       "      <th>2023-02-28 00:00:00</th>\n",
       "      <td>147.410004</td>\n",
       "      <td>153.899994</td>\n",
       "      <td>101.720001</td>\n",
       "      <td>265.549988</td>\n",
       "      <td>323.950012</td>\n",
       "      <td>218.582123</td>\n",
       "      <td>231.660004</td>\n",
       "      <td>94.230003</td>\n",
       "      <td>304.049988</td>\n",
       "      <td>285.980011</td>\n",
       "      <td>...</td>\n",
       "      <td>3902100</td>\n",
       "      <td>6091200</td>\n",
       "      <td>3703000</td>\n",
       "      <td>6209100</td>\n",
       "      <td>5385400</td>\n",
       "      <td>16685300</td>\n",
       "      <td>18627200</td>\n",
       "      <td>6018000</td>\n",
       "      <td>18107000</td>\n",
       "      <td>2935200</td>\n",
       "    </tr>\n",
       "  </tbody>\n",
       "</table>\n",
       "<p>5 rows × 564 columns</p>\n",
       "</div>"
      ],
      "text/plain": [
       "                      Adj Close                                      \\\n",
       "                           AAPL        ABBV         ABT         ACN   \n",
       "Date                                                                  \n",
       "2023-02-22 00:00:00  148.910004  150.669998  102.690002  269.630005   \n",
       "2023-02-23 00:00:00  149.399994  152.070007  102.550003  271.230011   \n",
       "2023-02-24 00:00:00  146.710007  152.710007  100.459999  266.529999   \n",
       "2023-02-27 00:00:00  147.919998  154.279999   99.769997  266.250000   \n",
       "2023-02-28 00:00:00  147.410004  153.899994  101.720001  265.549988   \n",
       "\n",
       "                                                                    \\\n",
       "                           ADBE         ADP        AMGN       AMZN   \n",
       "Date                                                                 \n",
       "2023-02-22 00:00:00  348.720001  221.674591  236.160004  95.790001   \n",
       "2023-02-23 00:00:00  347.019989  221.525436  237.619995  95.820000   \n",
       "2023-02-24 00:00:00  320.540009  220.332199  233.660004  93.500000   \n",
       "2023-02-27 00:00:00  322.320007  220.352097  234.449997  93.760002   \n",
       "2023-02-28 00:00:00  323.950012  218.582123  231.660004  94.230003   \n",
       "\n",
       "                                             ...   Volume                     \\\n",
       "                            AON         APD  ...      UNH       UNP      UPS   \n",
       "Date                                         ...                               \n",
       "2023-02-22 00:00:00  304.869995  278.290009  ...  2982800   5816000  2376900   \n",
       "2023-02-23 00:00:00  304.480011  279.720001  ...  2511800   3125400  2341200   \n",
       "2023-02-24 00:00:00  302.970001  280.980011  ...  2940400   3371400  2674400   \n",
       "2023-02-27 00:00:00  302.589996  285.420013  ...  3006200  12140400  2925400   \n",
       "2023-02-28 00:00:00  304.049988  285.980011  ...  3902100   6091200  3703000   \n",
       "\n",
       "                                                                              \\\n",
       "                         USB        V        VZ       WFC      WMT       XOM   \n",
       "Date                                                                           \n",
       "2023-02-22 00:00:00  4583300  4621800  15086800  13402900  9948000  13973800   \n",
       "2023-02-23 00:00:00  4319300  5533800  16738200  14783600  7340400  11289400   \n",
       "2023-02-24 00:00:00  4141500  4414400  16431500  16040300  6874500  14351000   \n",
       "2023-02-27 00:00:00  4260200  4255300  14210900  15468200  5549100  11710500   \n",
       "2023-02-28 00:00:00  6209100  5385400  16685300  18627200  6018000  18107000   \n",
       "\n",
       "                              \n",
       "                         ZTS  \n",
       "Date                          \n",
       "2023-02-22 00:00:00  2103800  \n",
       "2023-02-23 00:00:00  1769000  \n",
       "2023-02-24 00:00:00  1843200  \n",
       "2023-02-27 00:00:00  1183700  \n",
       "2023-02-28 00:00:00  2935200  \n",
       "\n",
       "[5 rows x 564 columns]"
      ]
     },
     "execution_count": 101,
     "metadata": {},
     "output_type": "execute_result"
    }
   ],
   "source": [
    "tickers = tickers\n",
    "data = pdr.get_data_yahoo(tickers, start = '2018-03-01', end = '2023-03-01').dropna(axis=1)\n",
    "data.tail()"
   ]
  },
  {
   "cell_type": "markdown",
   "id": "d60116ec",
   "metadata": {},
   "source": [
    "## Prices"
   ]
  },
  {
   "cell_type": "code",
   "execution_count": 102,
   "id": "79340c63",
   "metadata": {},
   "outputs": [
    {
     "data": {
      "text/html": [
       "<div>\n",
       "<style scoped>\n",
       "    .dataframe tbody tr th:only-of-type {\n",
       "        vertical-align: middle;\n",
       "    }\n",
       "\n",
       "    .dataframe tbody tr th {\n",
       "        vertical-align: top;\n",
       "    }\n",
       "\n",
       "    .dataframe thead th {\n",
       "        text-align: right;\n",
       "    }\n",
       "</style>\n",
       "<table border=\"1\" class=\"dataframe\">\n",
       "  <thead>\n",
       "    <tr style=\"text-align: right;\">\n",
       "      <th></th>\n",
       "      <th>AAPL</th>\n",
       "      <th>ABBV</th>\n",
       "      <th>ABT</th>\n",
       "      <th>ACN</th>\n",
       "      <th>ADBE</th>\n",
       "      <th>ADP</th>\n",
       "      <th>AMGN</th>\n",
       "      <th>AMZN</th>\n",
       "      <th>AON</th>\n",
       "      <th>APD</th>\n",
       "      <th>...</th>\n",
       "      <th>UNH</th>\n",
       "      <th>UNP</th>\n",
       "      <th>UPS</th>\n",
       "      <th>USB</th>\n",
       "      <th>V</th>\n",
       "      <th>VZ</th>\n",
       "      <th>WFC</th>\n",
       "      <th>WMT</th>\n",
       "      <th>XOM</th>\n",
       "      <th>ZTS</th>\n",
       "    </tr>\n",
       "    <tr>\n",
       "      <th>Date</th>\n",
       "      <th></th>\n",
       "      <th></th>\n",
       "      <th></th>\n",
       "      <th></th>\n",
       "      <th></th>\n",
       "      <th></th>\n",
       "      <th></th>\n",
       "      <th></th>\n",
       "      <th></th>\n",
       "      <th></th>\n",
       "      <th></th>\n",
       "      <th></th>\n",
       "      <th></th>\n",
       "      <th></th>\n",
       "      <th></th>\n",
       "      <th></th>\n",
       "      <th></th>\n",
       "      <th></th>\n",
       "      <th></th>\n",
       "      <th></th>\n",
       "      <th></th>\n",
       "    </tr>\n",
       "  </thead>\n",
       "  <tbody>\n",
       "    <tr>\n",
       "      <th>2023-02-22 00:00:00</th>\n",
       "      <td>148.910004</td>\n",
       "      <td>150.669998</td>\n",
       "      <td>102.690002</td>\n",
       "      <td>269.630005</td>\n",
       "      <td>348.720001</td>\n",
       "      <td>221.674591</td>\n",
       "      <td>236.160004</td>\n",
       "      <td>95.790001</td>\n",
       "      <td>304.869995</td>\n",
       "      <td>278.290009</td>\n",
       "      <td>...</td>\n",
       "      <td>487.154907</td>\n",
       "      <td>190.097687</td>\n",
       "      <td>176.610001</td>\n",
       "      <td>47.540001</td>\n",
       "      <td>220.020004</td>\n",
       "      <td>39.279999</td>\n",
       "      <td>46.009998</td>\n",
       "      <td>143.651230</td>\n",
       "      <td>109.730003</td>\n",
       "      <td>166.429993</td>\n",
       "    </tr>\n",
       "    <tr>\n",
       "      <th>2023-02-23 00:00:00</th>\n",
       "      <td>149.399994</td>\n",
       "      <td>152.070007</td>\n",
       "      <td>102.550003</td>\n",
       "      <td>271.230011</td>\n",
       "      <td>347.019989</td>\n",
       "      <td>221.525436</td>\n",
       "      <td>237.619995</td>\n",
       "      <td>95.820000</td>\n",
       "      <td>304.480011</td>\n",
       "      <td>279.720001</td>\n",
       "      <td>...</td>\n",
       "      <td>489.944946</td>\n",
       "      <td>192.024704</td>\n",
       "      <td>179.940002</td>\n",
       "      <td>47.720001</td>\n",
       "      <td>221.130005</td>\n",
       "      <td>38.529999</td>\n",
       "      <td>46.250000</td>\n",
       "      <td>141.509995</td>\n",
       "      <td>110.739998</td>\n",
       "      <td>169.500000</td>\n",
       "    </tr>\n",
       "    <tr>\n",
       "      <th>2023-02-24 00:00:00</th>\n",
       "      <td>146.710007</td>\n",
       "      <td>152.710007</td>\n",
       "      <td>100.459999</td>\n",
       "      <td>266.529999</td>\n",
       "      <td>320.540009</td>\n",
       "      <td>220.332199</td>\n",
       "      <td>233.660004</td>\n",
       "      <td>93.500000</td>\n",
       "      <td>302.970001</td>\n",
       "      <td>280.980011</td>\n",
       "      <td>...</td>\n",
       "      <td>482.611053</td>\n",
       "      <td>192.720001</td>\n",
       "      <td>180.149994</td>\n",
       "      <td>47.639999</td>\n",
       "      <td>219.550003</td>\n",
       "      <td>38.740002</td>\n",
       "      <td>46.619999</td>\n",
       "      <td>141.888458</td>\n",
       "      <td>110.750000</td>\n",
       "      <td>166.330002</td>\n",
       "    </tr>\n",
       "    <tr>\n",
       "      <th>2023-02-27 00:00:00</th>\n",
       "      <td>147.919998</td>\n",
       "      <td>154.279999</td>\n",
       "      <td>99.769997</td>\n",
       "      <td>266.250000</td>\n",
       "      <td>322.320007</td>\n",
       "      <td>220.352097</td>\n",
       "      <td>234.449997</td>\n",
       "      <td>93.760002</td>\n",
       "      <td>302.589996</td>\n",
       "      <td>285.420013</td>\n",
       "      <td>...</td>\n",
       "      <td>481.604645</td>\n",
       "      <td>212.169998</td>\n",
       "      <td>182.229996</td>\n",
       "      <td>47.580002</td>\n",
       "      <td>220.350006</td>\n",
       "      <td>38.880001</td>\n",
       "      <td>46.779999</td>\n",
       "      <td>140.862656</td>\n",
       "      <td>110.550003</td>\n",
       "      <td>165.470001</td>\n",
       "    </tr>\n",
       "    <tr>\n",
       "      <th>2023-02-28 00:00:00</th>\n",
       "      <td>147.410004</td>\n",
       "      <td>153.899994</td>\n",
       "      <td>101.720001</td>\n",
       "      <td>265.549988</td>\n",
       "      <td>323.950012</td>\n",
       "      <td>218.582123</td>\n",
       "      <td>231.660004</td>\n",
       "      <td>94.230003</td>\n",
       "      <td>304.049988</td>\n",
       "      <td>285.980011</td>\n",
       "      <td>...</td>\n",
       "      <td>474.250854</td>\n",
       "      <td>207.279999</td>\n",
       "      <td>182.490005</td>\n",
       "      <td>47.730000</td>\n",
       "      <td>219.940002</td>\n",
       "      <td>38.810001</td>\n",
       "      <td>46.770000</td>\n",
       "      <td>141.549850</td>\n",
       "      <td>109.910004</td>\n",
       "      <td>167.000000</td>\n",
       "    </tr>\n",
       "  </tbody>\n",
       "</table>\n",
       "<p>5 rows × 94 columns</p>\n",
       "</div>"
      ],
      "text/plain": [
       "                           AAPL        ABBV         ABT         ACN  \\\n",
       "Date                                                                  \n",
       "2023-02-22 00:00:00  148.910004  150.669998  102.690002  269.630005   \n",
       "2023-02-23 00:00:00  149.399994  152.070007  102.550003  271.230011   \n",
       "2023-02-24 00:00:00  146.710007  152.710007  100.459999  266.529999   \n",
       "2023-02-27 00:00:00  147.919998  154.279999   99.769997  266.250000   \n",
       "2023-02-28 00:00:00  147.410004  153.899994  101.720001  265.549988   \n",
       "\n",
       "                           ADBE         ADP        AMGN       AMZN  \\\n",
       "Date                                                                 \n",
       "2023-02-22 00:00:00  348.720001  221.674591  236.160004  95.790001   \n",
       "2023-02-23 00:00:00  347.019989  221.525436  237.619995  95.820000   \n",
       "2023-02-24 00:00:00  320.540009  220.332199  233.660004  93.500000   \n",
       "2023-02-27 00:00:00  322.320007  220.352097  234.449997  93.760002   \n",
       "2023-02-28 00:00:00  323.950012  218.582123  231.660004  94.230003   \n",
       "\n",
       "                            AON         APD  ...         UNH         UNP  \\\n",
       "Date                                         ...                           \n",
       "2023-02-22 00:00:00  304.869995  278.290009  ...  487.154907  190.097687   \n",
       "2023-02-23 00:00:00  304.480011  279.720001  ...  489.944946  192.024704   \n",
       "2023-02-24 00:00:00  302.970001  280.980011  ...  482.611053  192.720001   \n",
       "2023-02-27 00:00:00  302.589996  285.420013  ...  481.604645  212.169998   \n",
       "2023-02-28 00:00:00  304.049988  285.980011  ...  474.250854  207.279999   \n",
       "\n",
       "                            UPS        USB           V         VZ        WFC  \\\n",
       "Date                                                                           \n",
       "2023-02-22 00:00:00  176.610001  47.540001  220.020004  39.279999  46.009998   \n",
       "2023-02-23 00:00:00  179.940002  47.720001  221.130005  38.529999  46.250000   \n",
       "2023-02-24 00:00:00  180.149994  47.639999  219.550003  38.740002  46.619999   \n",
       "2023-02-27 00:00:00  182.229996  47.580002  220.350006  38.880001  46.779999   \n",
       "2023-02-28 00:00:00  182.490005  47.730000  219.940002  38.810001  46.770000   \n",
       "\n",
       "                            WMT         XOM         ZTS  \n",
       "Date                                                     \n",
       "2023-02-22 00:00:00  143.651230  109.730003  166.429993  \n",
       "2023-02-23 00:00:00  141.509995  110.739998  169.500000  \n",
       "2023-02-24 00:00:00  141.888458  110.750000  166.330002  \n",
       "2023-02-27 00:00:00  140.862656  110.550003  165.470001  \n",
       "2023-02-28 00:00:00  141.549850  109.910004  167.000000  \n",
       "\n",
       "[5 rows x 94 columns]"
      ]
     },
     "execution_count": 102,
     "metadata": {},
     "output_type": "execute_result"
    }
   ],
   "source": [
    "prices = data['Adj Close']\n",
    "prices.tail()"
   ]
  },
  {
   "cell_type": "markdown",
   "id": "9fdddd13",
   "metadata": {},
   "source": [
    "## Returns"
   ]
  },
  {
   "cell_type": "code",
   "execution_count": 103,
   "id": "fc2cdd17",
   "metadata": {},
   "outputs": [
    {
     "data": {
      "text/html": [
       "<div>\n",
       "<style scoped>\n",
       "    .dataframe tbody tr th:only-of-type {\n",
       "        vertical-align: middle;\n",
       "    }\n",
       "\n",
       "    .dataframe tbody tr th {\n",
       "        vertical-align: top;\n",
       "    }\n",
       "\n",
       "    .dataframe thead th {\n",
       "        text-align: right;\n",
       "    }\n",
       "</style>\n",
       "<table border=\"1\" class=\"dataframe\">\n",
       "  <thead>\n",
       "    <tr style=\"text-align: right;\">\n",
       "      <th></th>\n",
       "      <th>AAPL</th>\n",
       "      <th>ABBV</th>\n",
       "      <th>ABT</th>\n",
       "      <th>ACN</th>\n",
       "      <th>ADBE</th>\n",
       "      <th>ADP</th>\n",
       "      <th>AMGN</th>\n",
       "      <th>AMZN</th>\n",
       "      <th>AON</th>\n",
       "      <th>APD</th>\n",
       "      <th>...</th>\n",
       "      <th>UNH</th>\n",
       "      <th>UNP</th>\n",
       "      <th>UPS</th>\n",
       "      <th>USB</th>\n",
       "      <th>V</th>\n",
       "      <th>VZ</th>\n",
       "      <th>WFC</th>\n",
       "      <th>WMT</th>\n",
       "      <th>XOM</th>\n",
       "      <th>ZTS</th>\n",
       "    </tr>\n",
       "    <tr>\n",
       "      <th>Date</th>\n",
       "      <th></th>\n",
       "      <th></th>\n",
       "      <th></th>\n",
       "      <th></th>\n",
       "      <th></th>\n",
       "      <th></th>\n",
       "      <th></th>\n",
       "      <th></th>\n",
       "      <th></th>\n",
       "      <th></th>\n",
       "      <th></th>\n",
       "      <th></th>\n",
       "      <th></th>\n",
       "      <th></th>\n",
       "      <th></th>\n",
       "      <th></th>\n",
       "      <th></th>\n",
       "      <th></th>\n",
       "      <th></th>\n",
       "      <th></th>\n",
       "      <th></th>\n",
       "    </tr>\n",
       "  </thead>\n",
       "  <tbody>\n",
       "    <tr>\n",
       "      <th>2023-02-22 00:00:00</th>\n",
       "      <td>0.002896</td>\n",
       "      <td>-0.008750</td>\n",
       "      <td>-0.009262</td>\n",
       "      <td>0.001783</td>\n",
       "      <td>0.005826</td>\n",
       "      <td>-0.007789</td>\n",
       "      <td>-0.008731</td>\n",
       "      <td>0.012793</td>\n",
       "      <td>0.000624</td>\n",
       "      <td>0.002811</td>\n",
       "      <td>...</td>\n",
       "      <td>-0.004926</td>\n",
       "      <td>-0.012232</td>\n",
       "      <td>-0.010367</td>\n",
       "      <td>-0.003145</td>\n",
       "      <td>-0.002720</td>\n",
       "      <td>0.002041</td>\n",
       "      <td>-0.004974</td>\n",
       "      <td>-0.020973</td>\n",
       "      <td>-0.012953</td>\n",
       "      <td>-0.020078</td>\n",
       "    </tr>\n",
       "    <tr>\n",
       "      <th>2023-02-23 00:00:00</th>\n",
       "      <td>0.003291</td>\n",
       "      <td>0.009292</td>\n",
       "      <td>-0.001363</td>\n",
       "      <td>0.005934</td>\n",
       "      <td>-0.004875</td>\n",
       "      <td>-0.000673</td>\n",
       "      <td>0.006182</td>\n",
       "      <td>0.000313</td>\n",
       "      <td>-0.001279</td>\n",
       "      <td>0.005138</td>\n",
       "      <td>...</td>\n",
       "      <td>0.005727</td>\n",
       "      <td>0.010137</td>\n",
       "      <td>0.018855</td>\n",
       "      <td>0.003786</td>\n",
       "      <td>0.005045</td>\n",
       "      <td>-0.019094</td>\n",
       "      <td>0.005216</td>\n",
       "      <td>-0.014906</td>\n",
       "      <td>0.009204</td>\n",
       "      <td>0.018446</td>\n",
       "    </tr>\n",
       "    <tr>\n",
       "      <th>2023-02-24 00:00:00</th>\n",
       "      <td>-0.018005</td>\n",
       "      <td>0.004209</td>\n",
       "      <td>-0.020380</td>\n",
       "      <td>-0.017329</td>\n",
       "      <td>-0.076307</td>\n",
       "      <td>-0.005386</td>\n",
       "      <td>-0.016665</td>\n",
       "      <td>-0.024212</td>\n",
       "      <td>-0.004959</td>\n",
       "      <td>0.004505</td>\n",
       "      <td>...</td>\n",
       "      <td>-0.014969</td>\n",
       "      <td>0.003621</td>\n",
       "      <td>0.001167</td>\n",
       "      <td>-0.001676</td>\n",
       "      <td>-0.007145</td>\n",
       "      <td>0.005450</td>\n",
       "      <td>0.008000</td>\n",
       "      <td>0.002674</td>\n",
       "      <td>0.000090</td>\n",
       "      <td>-0.018702</td>\n",
       "    </tr>\n",
       "    <tr>\n",
       "      <th>2023-02-27 00:00:00</th>\n",
       "      <td>0.008248</td>\n",
       "      <td>0.010281</td>\n",
       "      <td>-0.006868</td>\n",
       "      <td>-0.001051</td>\n",
       "      <td>0.005553</td>\n",
       "      <td>0.000090</td>\n",
       "      <td>0.003381</td>\n",
       "      <td>0.002781</td>\n",
       "      <td>-0.001254</td>\n",
       "      <td>0.015802</td>\n",
       "      <td>...</td>\n",
       "      <td>-0.002085</td>\n",
       "      <td>0.100924</td>\n",
       "      <td>0.011546</td>\n",
       "      <td>-0.001259</td>\n",
       "      <td>0.003644</td>\n",
       "      <td>0.003614</td>\n",
       "      <td>0.003432</td>\n",
       "      <td>-0.007230</td>\n",
       "      <td>-0.001806</td>\n",
       "      <td>-0.005170</td>\n",
       "    </tr>\n",
       "    <tr>\n",
       "      <th>2023-02-28 00:00:00</th>\n",
       "      <td>-0.003448</td>\n",
       "      <td>-0.002463</td>\n",
       "      <td>0.019545</td>\n",
       "      <td>-0.002629</td>\n",
       "      <td>0.005057</td>\n",
       "      <td>-0.008032</td>\n",
       "      <td>-0.011900</td>\n",
       "      <td>0.005013</td>\n",
       "      <td>0.004825</td>\n",
       "      <td>0.001962</td>\n",
       "      <td>...</td>\n",
       "      <td>-0.015269</td>\n",
       "      <td>-0.023048</td>\n",
       "      <td>0.001427</td>\n",
       "      <td>0.003153</td>\n",
       "      <td>-0.001861</td>\n",
       "      <td>-0.001800</td>\n",
       "      <td>-0.000214</td>\n",
       "      <td>0.004878</td>\n",
       "      <td>-0.005789</td>\n",
       "      <td>0.009246</td>\n",
       "    </tr>\n",
       "  </tbody>\n",
       "</table>\n",
       "<p>5 rows × 94 columns</p>\n",
       "</div>"
      ],
      "text/plain": [
       "                         AAPL      ABBV       ABT       ACN      ADBE  \\\n",
       "Date                                                                    \n",
       "2023-02-22 00:00:00  0.002896 -0.008750 -0.009262  0.001783  0.005826   \n",
       "2023-02-23 00:00:00  0.003291  0.009292 -0.001363  0.005934 -0.004875   \n",
       "2023-02-24 00:00:00 -0.018005  0.004209 -0.020380 -0.017329 -0.076307   \n",
       "2023-02-27 00:00:00  0.008248  0.010281 -0.006868 -0.001051  0.005553   \n",
       "2023-02-28 00:00:00 -0.003448 -0.002463  0.019545 -0.002629  0.005057   \n",
       "\n",
       "                          ADP      AMGN      AMZN       AON       APD  ...  \\\n",
       "Date                                                                   ...   \n",
       "2023-02-22 00:00:00 -0.007789 -0.008731  0.012793  0.000624  0.002811  ...   \n",
       "2023-02-23 00:00:00 -0.000673  0.006182  0.000313 -0.001279  0.005138  ...   \n",
       "2023-02-24 00:00:00 -0.005386 -0.016665 -0.024212 -0.004959  0.004505  ...   \n",
       "2023-02-27 00:00:00  0.000090  0.003381  0.002781 -0.001254  0.015802  ...   \n",
       "2023-02-28 00:00:00 -0.008032 -0.011900  0.005013  0.004825  0.001962  ...   \n",
       "\n",
       "                          UNH       UNP       UPS       USB         V  \\\n",
       "Date                                                                    \n",
       "2023-02-22 00:00:00 -0.004926 -0.012232 -0.010367 -0.003145 -0.002720   \n",
       "2023-02-23 00:00:00  0.005727  0.010137  0.018855  0.003786  0.005045   \n",
       "2023-02-24 00:00:00 -0.014969  0.003621  0.001167 -0.001676 -0.007145   \n",
       "2023-02-27 00:00:00 -0.002085  0.100924  0.011546 -0.001259  0.003644   \n",
       "2023-02-28 00:00:00 -0.015269 -0.023048  0.001427  0.003153 -0.001861   \n",
       "\n",
       "                           VZ       WFC       WMT       XOM       ZTS  \n",
       "Date                                                                   \n",
       "2023-02-22 00:00:00  0.002041 -0.004974 -0.020973 -0.012953 -0.020078  \n",
       "2023-02-23 00:00:00 -0.019094  0.005216 -0.014906  0.009204  0.018446  \n",
       "2023-02-24 00:00:00  0.005450  0.008000  0.002674  0.000090 -0.018702  \n",
       "2023-02-27 00:00:00  0.003614  0.003432 -0.007230 -0.001806 -0.005170  \n",
       "2023-02-28 00:00:00 -0.001800 -0.000214  0.004878 -0.005789  0.009246  \n",
       "\n",
       "[5 rows x 94 columns]"
      ]
     },
     "execution_count": 103,
     "metadata": {},
     "output_type": "execute_result"
    }
   ],
   "source": [
    "# Daily, Monthly and yearly returns\n",
    "''' daily_return = prices.pct_change(1) # 1 for ONE DAY lookback\n",
    "    monthly_return = prices.pct_change(21) # 21 for ONE MONTH lookback\n",
    "    annual_return = prices.pct_change(252) # 252 for ONE YEAR lookback\n",
    "'''\n",
    "returns = prices.pct_change(1).dropna()\n",
    "returns.tail()"
   ]
  },
  {
   "cell_type": "markdown",
   "id": "24d083a0",
   "metadata": {},
   "source": [
    "## Annualized mean return and covariances"
   ]
  },
  {
   "cell_type": "code",
   "execution_count": 104,
   "id": "b1b03f31",
   "metadata": {},
   "outputs": [
    {
     "name": "stdout",
     "output_type": "stream",
     "text": [
      "The annualized mean returns for each asset are: \n",
      "AAPL    0.362086\n",
      "ABBV    0.157086\n",
      "ABT     0.175741\n",
      "ACN     0.176549\n",
      "ADBE    0.176068\n",
      "          ...   \n",
      "VZ      0.024008\n",
      "WFC     0.059169\n",
      "WMT     0.148242\n",
      "XOM     0.204017\n",
      "ZTS     0.212427\n",
      "Length: 94, dtype: float64\n"
     ]
    }
   ],
   "source": [
    "annual_returns = ((1+returns.mean())**(252))-1\n",
    "cov = returns.cov()*252\n",
    "\n",
    "print(\"The annualized mean returns for each asset are: \")\n",
    "print(annual_returns)"
   ]
  },
  {
   "cell_type": "code",
   "execution_count": 105,
   "id": "30cd62cd",
   "metadata": {},
   "outputs": [
    {
     "name": "stdout",
     "output_type": "stream",
     "text": [
      "The covariance for each asset are: \n",
      "          AAPL      ABBV       ABT       ACN      ADBE       ADP      AMGN  \\\n",
      "AAPL  0.111937  0.032893  0.049253  0.062005  0.085984  0.056338  0.038330   \n",
      "ABBV  0.032893  0.075755  0.034665  0.034340  0.035324  0.033254  0.034718   \n",
      "ABT   0.049253  0.034665  0.071161  0.047468  0.055368  0.044835  0.037329   \n",
      "ACN   0.062005  0.034340  0.047468  0.082005  0.070516  0.058869  0.033886   \n",
      "ADBE  0.085984  0.035324  0.055368  0.070516  0.142147  0.061729  0.040216   \n",
      "...        ...       ...       ...       ...       ...       ...       ...   \n",
      "VZ    0.019201  0.019110  0.021542  0.023174  0.015818  0.024962  0.020489   \n",
      "WFC   0.050786  0.035858  0.037781  0.057608  0.045351  0.057733  0.034132   \n",
      "WMT   0.029580  0.017317  0.023304  0.024733  0.030389  0.024591  0.022729   \n",
      "XOM   0.038684  0.030820  0.024746  0.041433  0.030618  0.044809  0.025136   \n",
      "ZTS   0.055418  0.033567  0.048424  0.053648  0.062785  0.049064  0.032365   \n",
      "\n",
      "          AMZN       AON       APD  ...       UNH       UNP       UPS  \\\n",
      "AAPL  0.078765  0.042286  0.046905  ...  0.047774  0.048075  0.049643   \n",
      "ABBV  0.026055  0.026346  0.030559  ...  0.039619  0.030098  0.028205   \n",
      "ABT   0.043496  0.035540  0.040911  ...  0.044616  0.034910  0.036906   \n",
      "ACN   0.058459  0.046885  0.048860  ...  0.044384  0.050068  0.044988   \n",
      "ADBE  0.092680  0.044072  0.050491  ...  0.046797  0.046651  0.052532   \n",
      "...        ...       ...       ...  ...       ...       ...       ...   \n",
      "VZ    0.013973  0.017983  0.022888  ...  0.024607  0.020559  0.019399   \n",
      "WFC   0.038895  0.044571  0.052699  ...  0.048809  0.058871  0.049103   \n",
      "WMT   0.027191  0.019320  0.024981  ...  0.023697  0.018917  0.025730   \n",
      "XOM   0.026826  0.032785  0.041603  ...  0.040345  0.050290  0.035842   \n",
      "ZTS   0.049862  0.040153  0.039479  ...  0.045857  0.039582  0.037873   \n",
      "\n",
      "           USB         V        VZ       WFC       WMT       XOM       ZTS  \n",
      "AAPL  0.044506  0.061771  0.019201  0.050786  0.029580  0.038684  0.055418  \n",
      "ABBV  0.035057  0.034674  0.019110  0.035858  0.017317  0.030820  0.033567  \n",
      "ABT   0.036248  0.044716  0.021542  0.037781  0.023304  0.024746  0.048424  \n",
      "ACN   0.055070  0.060329  0.023174  0.057608  0.024733  0.041433  0.053648  \n",
      "ADBE  0.040407  0.069545  0.015818  0.045351  0.030389  0.030618  0.062785  \n",
      "...        ...       ...       ...       ...       ...       ...       ...  \n",
      "VZ    0.028825  0.020716  0.039109  0.028136  0.017308  0.022295  0.020369  \n",
      "WFC   0.104179  0.059906  0.028136  0.138285  0.023217  0.073694  0.040224  \n",
      "WMT   0.020553  0.021215  0.017308  0.023217  0.052654  0.017144  0.023152  \n",
      "XOM   0.065658  0.047391  0.022295  0.073694  0.017144  0.114927  0.029398  \n",
      "ZTS   0.037824  0.051223  0.020369  0.040224  0.023152  0.029398  0.079525  \n",
      "\n",
      "[94 rows x 94 columns]\n"
     ]
    }
   ],
   "source": [
    "print(\"The covariance for each asset are: \")\n",
    "print(cov)"
   ]
  },
  {
   "cell_type": "markdown",
   "id": "fb073685",
   "metadata": {},
   "source": [
    "## Sample for efficient frontier"
   ]
  },
  {
   "cell_type": "code",
   "execution_count": 106,
   "id": "dc94d365",
   "metadata": {},
   "outputs": [],
   "source": [
    "# https://quant.stackexchange.com/questions/43442/portfolio-variance-explanation"
   ]
  },
  {
   "cell_type": "code",
   "execution_count": 115,
   "id": "202928d6",
   "metadata": {},
   "outputs": [
    {
     "name": "stderr",
     "output_type": "stream",
     "text": [
      "100%|████████████████████████████████████████████████████████████████████████████| 1000/1000 [00:00<00:00, 2680.16it/s]\n"
     ]
    }
   ],
   "source": [
    "# Assets per portfolio\n",
    "n_assets = 5\n",
    "\n",
    "# Generated portfolios\n",
    "n_portf = 1000\n",
    "\n",
    "# List of mean and variance, weights and tickers\n",
    "mean_var = []\n",
    "weights_list = []\n",
    "tickers_list = []\n",
    "\n",
    "for i in tqdm(range(n_portf)):\n",
    "    next_i = False\n",
    "    while True:\n",
    "        # Choose assets randomly without replacement\n",
    "        assets = np.random.choice(list(returns.columns), n_assets, replace=False)\n",
    "        \n",
    "        # Choose weights randomly ensuring they sum to one\n",
    "        weights = np.random.rand(n_assets)\n",
    "        weights = weights / sum(weights)\n",
    "        \n",
    "        # Compute portfolio returns and variance\n",
    "        portf_return = 0\n",
    "        portf_var = 0\n",
    "        for i in range(len(assets)):\n",
    "            portf_return += weights[i] * annual_returns.loc[assets[i]]\n",
    "            for j in range(len(assets)):\n",
    "                portf_var += weights[i] * weights[j] * cov.loc[assets[i], assets[j]]\n",
    "        \n",
    "        # Skip dominated portfolios\n",
    "        for r, v in mean_var:\n",
    "            if r > portf_return and v < portf_var:\n",
    "                next_i = True\n",
    "                break\n",
    "        if next_i:\n",
    "            break\n",
    "        \n",
    "        # Add the mean/variance pairs, weights and tickers to lists\n",
    "        mean_var.append([portf_return, portf_var])\n",
    "        weights_list.append(weights)\n",
    "        tickers_list.append(assets)\n",
    "        break\n"
   ]
  },
  {
   "cell_type": "code",
   "execution_count": 116,
   "id": "42b1486b",
   "metadata": {},
   "outputs": [
    {
     "data": {
      "text/plain": [
       "48"
      ]
     },
     "execution_count": 116,
     "metadata": {},
     "output_type": "execute_result"
    }
   ],
   "source": [
    "len(mean_var)"
   ]
  },
  {
   "cell_type": "code",
   "execution_count": 117,
   "id": "cdc3b7d4",
   "metadata": {},
   "outputs": [
    {
     "data": {
      "application/vnd.plotly.v1+json": {
       "config": {
        "plotlyServerURL": "https://plot.ly"
       },
       "data": [
        {
         "marker": {
          "color": [
           0.5298937824511352,
           0.8242736080991917,
           1.2003998366979542,
           1.0835378425886115,
           0.8162271746579148,
           0.7917583324252493,
           0.6057858437289405,
           0.681632775022725,
           1.1209715632051622,
           1.0544167744664503,
           1.1393274145429004,
           0.8139052485800086,
           1.2003619073542968,
           0.28075084482468443,
           1.2435732573069127,
           0.3314763609960977,
           0.3065889477868279,
           0.6865415090066767,
           1.1317144557753842,
           1.0415811186706965,
           0.43010473348515815,
           0.702512998261021,
           1.3472106939825435,
           1.0328011566918032,
           1.2036728866517805,
           0.48367617061753276,
           0.7340053168564594,
           0.6518528496861365,
           1.1497904154500078,
           1.336928882839714,
           1.0371155756773394,
           1.3936313132636113,
           0.31760059540141444,
           1.3561021098151498,
           0.8303290705164215,
           0.9026439685548253,
           1.071911654387564,
           1.2037032041231157,
           1.0852801813312114,
           0.6956902813434804,
           1.0849918013597621,
           1.2001086694676355,
           1.1902375871075506,
           1.244604312667195,
           1.309803698530082,
           1.2612165387735073,
           1.2787691613112495,
           1.2730409463199697
          ],
          "colorbar": {
           "title": {
            "text": "Sharpe<br>Ratio"
           }
          },
          "colorscale": [
           [
            0,
            "rgb(103,0,31)"
           ],
           [
            0.1,
            "rgb(178,24,43)"
           ],
           [
            0.2,
            "rgb(214,96,77)"
           ],
           [
            0.3,
            "rgb(244,165,130)"
           ],
           [
            0.4,
            "rgb(253,219,199)"
           ],
           [
            0.5,
            "rgb(247,247,247)"
           ],
           [
            0.6,
            "rgb(209,229,240)"
           ],
           [
            0.7,
            "rgb(146,197,222)"
           ],
           [
            0.8,
            "rgb(67,147,195)"
           ],
           [
            0.9,
            "rgb(33,102,172)"
           ],
           [
            1,
            "rgb(5,48,97)"
           ]
          ],
          "line": {
           "width": 1
          },
          "showscale": true,
          "size": 7
         },
         "mode": "markers",
         "text": [
          "['ZTS' 'DIS' 'KMI' 'NEE' 'T']<br>[0.58 0.07 0.06 0.05 0.24]",
          "['TMO' 'LOW' 'WMT' 'MSFT' 'BDX']<br>[0.24 0.14 0.15 0.25 0.23]",
          "['BMY' 'TSLA' 'PYPL' 'UPS' 'F']<br>[0.16 0.37 0.13 0.23 0.11]",
          "['BMY' 'PM' 'LLY' 'BRK-B' 'TSLA']<br>[0.42 0.25 0.01 0.06 0.26]",
          "['D' 'LLY' 'HON' 'CMI' 'ADBE']<br>[0.2  0.33 0.27 0.19 0.01]",
          "['ZTS' 'MA' 'MSFT' 'UNP' 'NEE']<br>[0.28 0.04 0.16 0.06 0.46]",
          "['UNP' 'AAPL' 'PFE' 'ABBV' 'PEP']<br>[0.33 0.05 0.33 0.15 0.14]",
          "['VZ' 'COST' 'SLB' 'DIS' 'PLD']<br>[0.33 0.34 0.03 0.04 0.27]",
          "['TSLA' 'CMI' 'DE' 'PLD' 'SPGI']<br>[0.16 0.26 0.07 0.28 0.22]",
          "['IBM' 'TSLA' 'V' 'ABBV' 'AON']<br>[0.18 0.14 0.08 0.27 0.34]",
          "['CMCSA' 'TSLA' 'MDT' 'BRK-A' 'BRK-B']<br>[0.1  0.32 0.18 0.14 0.26]",
          "['AON' 'UNH' 'MRK' 'BRK-A' 'HD']<br>[0.11 0.26 0.29 0.23 0.12]",
          "['INTC' 'CMI' 'PFE' 'LLY' 'TSLA']<br>[0.09 0.21 0.27 0.3  0.13]",
          "['BDX' 'HON' 'GOOG' 'BMY' 'PM']<br>[0.26 0.1  0.1  0.3  0.25]",
          "['BDX' 'COST' 'SPGI' 'TSLA' 'ADBE']<br>[0.08 0.15 0.38 0.32 0.07]",
          "['SPGI' 'PFE' 'VZ' 'JNJ' 'CME']<br>[0.05 0.09 0.05 0.51 0.3 ]",
          "['PM' 'AMZN' 'VZ' 'COST' 'LMT']<br>[0.15 0.23 0.31 0.01 0.31]",
          "['PG' 'MCD' 'HD' 'MMC' 'AMGN']<br>[0.23 0.16 0.22 0.17 0.22]",
          "['UNH' 'MMM' 'TSLA' 'SBUX' 'LLY']<br>[0.29 0.17 0.21 0.26 0.06]",
          "['INTC' 'LLY' 'MRK' 'WMT' 'CMCSA']<br>[0.07 0.3  0.39 0.19 0.05]",
          "['BMY' 'DIS' 'NEE' 'WMT' 'PFE']<br>[0.25 0.19 0.27 0.04 0.26]",
          "['BDX' 'NEE' 'PFE' 'PG' 'NVDA']<br>[0.19 0.34 0.13 0.3  0.05]",
          "['LOW' 'WFC' 'TSLA' 'MCD' 'AON']<br>[0.16 0.07 0.32 0.05 0.39]",
          "['LLY' 'COST' 'SLB' 'PG' 'UPS']<br>[0.23 0.23 0.17 0.21 0.15]",
          "['TSLA' 'AMGN' 'LMT' 'UNP' 'BMY']<br>[0.29 0.33 0.09 0.05 0.24]",
          "['WMT' 'MCD' 'PM' 'KMI' 'LMT']<br>[0.21 0.21 0.35 0.09 0.13]",
          "['MMC' 'CMCSA' 'MRK' 'WMT' 'COST']<br>[0.26 0.3  0.27 0.02 0.15]",
          "['KO' 'PG' 'BRK-A' 'AON' 'JNJ']<br>[0.06 0.29 0.33 0.21 0.12]",
          "['NVDA' 'PNC' 'COST' 'TSLA' 'PG']<br>[0.24 0.26 0.24 0.13 0.12]",
          "['CVX' 'TSLA' 'AAPL' 'LOW' 'BRK-A']<br>[0.09 0.32 0.23 0.08 0.28]",
          "['LLY' 'GOOGL' 'TJX' 'CVX' 'MRK']<br>[0.26 0.21 0.17 0.13 0.23]",
          "['NVDA' 'LLY' 'COST' 'F' 'TSLA']<br>[0.23 0.25 0.15 0.22 0.15]",
          "['BRK-A' 'JNJ' 'VZ' 'CMCSA' 'ABT']<br>[0.14 0.19 0.25 0.2  0.23]",
          "['TSLA' 'T' 'LIN' 'UNH' 'WMT']<br>[0.3  0.15 0.18 0.28 0.1 ]",
          "['MRK' 'WMT' 'UNP' 'KO' 'DHR']<br>[0.18 0.27 0.32 0.04 0.2 ]",
          "['MRK' 'TMUS' 'XOM' 'PEP' 'EQIX']<br>[0.29 0.29 0.24 0.1  0.08]",
          "['MRK' 'LLY' 'ISRG' 'GOOGL' 'UNP']<br>[0.32 0.29 0.   0.23 0.15]",
          "['CVS' 'F' 'PFE' 'WMT' 'TSLA']<br>[0.26 0.17 0.11 0.18 0.27]",
          "['DHR' 'JPM' 'TSLA' 'TXN' 'PM']<br>[0.26 0.32 0.19 0.1  0.12]",
          "['UPS' 'MCD' 'BMY' 'TMUS' 'JNJ']<br>[0.21 0.26 0.15 0.22 0.16]",
          "['CME' 'ZTS' 'PEP' 'TSLA' 'BAC']<br>[0.31 0.06 0.26 0.23 0.15]",
          "['CMCSA' 'ABBV' 'TSLA' 'PG' 'JCI']<br>[0.26 0.12 0.25 0.19 0.18]",
          "['LLY' 'ADP' 'JCI' 'JNJ' 'GOOG']<br>[0.67 0.04 0.05 0.13 0.11]",
          "['HD' 'VZ' 'TSLA' 'HON' 'INTC']<br>[0.08 0.28 0.48 0.08 0.08]",
          "['XOM' 'GOOG' 'LMT' 'TSLA' 'ISRG']<br>[0.2  0.22 0.15 0.41 0.02]",
          "['TSLA' 'CME' 'CRM' 'NEE' 'SPGI']<br>[0.43 0.19 0.17 0.19 0.02]",
          "['TSLA' 'AAPL' 'CME' 'ADP' 'WMT']<br>[0.22 0.26 0.23 0.04 0.25]",
          "['F' 'TSLA' 'BRK-A' 'ADP' 'TJX']<br>[0.14 0.37 0.12 0.24 0.13]"
         ],
         "type": "scatter",
         "x": [
          0.22610744624603896,
          0.21505422347335146,
          0.3346487396310838,
          0.2494387534329807,
          0.2126876908223392,
          0.2320568174563521,
          0.20241122210802212,
          0.19129591017052114,
          0.2634629673779726,
          0.22670764129915758,
          0.2905564195063463,
          0.19960040816003535,
          0.22406053249798183,
          0.18904864871935598,
          0.31775203323190765,
          0.18860929453920838,
          0.18408362320866425,
          0.1928376584847874,
          0.26288884740259016,
          0.19755431875617,
          0.1904875928468033,
          0.19646088414574162,
          0.31073729617078516,
          0.20191511911368112,
          0.265197213400673,
          0.1905795545828849,
          0.19089109006472202,
          0.18150612431797833,
          0.2833887738950865,
          0.31928485751235414,
          0.21164084337089234,
          0.2938119135174874,
          0.1807529894220345,
          0.27906584055388056,
          0.1878094600351672,
          0.19721794397586406,
          0.20749967701465388,
          0.2706694083101702,
          0.2620140760068784,
          0.18309122634949257,
          0.2623817883063413,
          0.25425046146504315,
          0.24143041611784685,
          0.3594039045279878,
          0.34677500959507707,
          0.3649933764494809,
          0.2637641570892692,
          0.33975033722855624
         ],
         "y": [
          0.1549129299316803,
          0.21236352071934927,
          0.4368122924043293,
          0.30537632875276455,
          0.20870147296443406,
          0.2188329188171518,
          0.15771785296491414,
          0.16549356210003024,
          0.3304344943883566,
          0.27414433988555476,
          0.3661388942150079,
          0.19755581982016474,
          0.3040537281520969,
          0.08817556784092419,
          0.4302479309820978,
          0.09761952260389795,
          0.09153800434433126,
          0.1674910570494601,
          0.3326151088676404,
          0.24086884832827887,
          0.11702961535360366,
          0.173116324762236,
          0.4537286084205026,
          0.2436381685741731,
          0.3543106953859963,
          0.12727878915864482,
          0.17521507504803122,
          0.15341528437216034,
          0.36093769607069986,
          0.4619611478616289,
          0.25459601510944063,
          0.4445654828878706,
          0.09250725706102372,
          0.41354177515245566,
          0.19104365438519139,
          0.21311758762059713,
          0.2575213220736628,
          0.3609056340410598,
          0.31945868392007487,
          0.16247478677060134,
          0.31978208913849304,
          0.3402281830203453,
          0.32245955593447795,
          0.4824156495649625,
          0.48930719012543666,
          0.49543568292087004,
          0.3723934699450135,
          0.46761609081797006
         ]
        }
       ],
       "layout": {
        "coloraxis": {
         "colorbar": {
          "title": {
           "text": "Sharpe Ratio"
          }
         }
        },
        "height": 500,
        "template": {
         "data": {
          "bar": [
           {
            "error_x": {
             "color": "#2a3f5f"
            },
            "error_y": {
             "color": "#2a3f5f"
            },
            "marker": {
             "line": {
              "color": "white",
              "width": 0.5
             },
             "pattern": {
              "fillmode": "overlay",
              "size": 10,
              "solidity": 0.2
             }
            },
            "type": "bar"
           }
          ],
          "barpolar": [
           {
            "marker": {
             "line": {
              "color": "white",
              "width": 0.5
             },
             "pattern": {
              "fillmode": "overlay",
              "size": 10,
              "solidity": 0.2
             }
            },
            "type": "barpolar"
           }
          ],
          "carpet": [
           {
            "aaxis": {
             "endlinecolor": "#2a3f5f",
             "gridcolor": "#C8D4E3",
             "linecolor": "#C8D4E3",
             "minorgridcolor": "#C8D4E3",
             "startlinecolor": "#2a3f5f"
            },
            "baxis": {
             "endlinecolor": "#2a3f5f",
             "gridcolor": "#C8D4E3",
             "linecolor": "#C8D4E3",
             "minorgridcolor": "#C8D4E3",
             "startlinecolor": "#2a3f5f"
            },
            "type": "carpet"
           }
          ],
          "choropleth": [
           {
            "colorbar": {
             "outlinewidth": 0,
             "ticks": ""
            },
            "type": "choropleth"
           }
          ],
          "contour": [
           {
            "colorbar": {
             "outlinewidth": 0,
             "ticks": ""
            },
            "colorscale": [
             [
              0,
              "#0d0887"
             ],
             [
              0.1111111111111111,
              "#46039f"
             ],
             [
              0.2222222222222222,
              "#7201a8"
             ],
             [
              0.3333333333333333,
              "#9c179e"
             ],
             [
              0.4444444444444444,
              "#bd3786"
             ],
             [
              0.5555555555555556,
              "#d8576b"
             ],
             [
              0.6666666666666666,
              "#ed7953"
             ],
             [
              0.7777777777777778,
              "#fb9f3a"
             ],
             [
              0.8888888888888888,
              "#fdca26"
             ],
             [
              1,
              "#f0f921"
             ]
            ],
            "type": "contour"
           }
          ],
          "contourcarpet": [
           {
            "colorbar": {
             "outlinewidth": 0,
             "ticks": ""
            },
            "type": "contourcarpet"
           }
          ],
          "heatmap": [
           {
            "colorbar": {
             "outlinewidth": 0,
             "ticks": ""
            },
            "colorscale": [
             [
              0,
              "#0d0887"
             ],
             [
              0.1111111111111111,
              "#46039f"
             ],
             [
              0.2222222222222222,
              "#7201a8"
             ],
             [
              0.3333333333333333,
              "#9c179e"
             ],
             [
              0.4444444444444444,
              "#bd3786"
             ],
             [
              0.5555555555555556,
              "#d8576b"
             ],
             [
              0.6666666666666666,
              "#ed7953"
             ],
             [
              0.7777777777777778,
              "#fb9f3a"
             ],
             [
              0.8888888888888888,
              "#fdca26"
             ],
             [
              1,
              "#f0f921"
             ]
            ],
            "type": "heatmap"
           }
          ],
          "heatmapgl": [
           {
            "colorbar": {
             "outlinewidth": 0,
             "ticks": ""
            },
            "colorscale": [
             [
              0,
              "#0d0887"
             ],
             [
              0.1111111111111111,
              "#46039f"
             ],
             [
              0.2222222222222222,
              "#7201a8"
             ],
             [
              0.3333333333333333,
              "#9c179e"
             ],
             [
              0.4444444444444444,
              "#bd3786"
             ],
             [
              0.5555555555555556,
              "#d8576b"
             ],
             [
              0.6666666666666666,
              "#ed7953"
             ],
             [
              0.7777777777777778,
              "#fb9f3a"
             ],
             [
              0.8888888888888888,
              "#fdca26"
             ],
             [
              1,
              "#f0f921"
             ]
            ],
            "type": "heatmapgl"
           }
          ],
          "histogram": [
           {
            "marker": {
             "pattern": {
              "fillmode": "overlay",
              "size": 10,
              "solidity": 0.2
             }
            },
            "type": "histogram"
           }
          ],
          "histogram2d": [
           {
            "colorbar": {
             "outlinewidth": 0,
             "ticks": ""
            },
            "colorscale": [
             [
              0,
              "#0d0887"
             ],
             [
              0.1111111111111111,
              "#46039f"
             ],
             [
              0.2222222222222222,
              "#7201a8"
             ],
             [
              0.3333333333333333,
              "#9c179e"
             ],
             [
              0.4444444444444444,
              "#bd3786"
             ],
             [
              0.5555555555555556,
              "#d8576b"
             ],
             [
              0.6666666666666666,
              "#ed7953"
             ],
             [
              0.7777777777777778,
              "#fb9f3a"
             ],
             [
              0.8888888888888888,
              "#fdca26"
             ],
             [
              1,
              "#f0f921"
             ]
            ],
            "type": "histogram2d"
           }
          ],
          "histogram2dcontour": [
           {
            "colorbar": {
             "outlinewidth": 0,
             "ticks": ""
            },
            "colorscale": [
             [
              0,
              "#0d0887"
             ],
             [
              0.1111111111111111,
              "#46039f"
             ],
             [
              0.2222222222222222,
              "#7201a8"
             ],
             [
              0.3333333333333333,
              "#9c179e"
             ],
             [
              0.4444444444444444,
              "#bd3786"
             ],
             [
              0.5555555555555556,
              "#d8576b"
             ],
             [
              0.6666666666666666,
              "#ed7953"
             ],
             [
              0.7777777777777778,
              "#fb9f3a"
             ],
             [
              0.8888888888888888,
              "#fdca26"
             ],
             [
              1,
              "#f0f921"
             ]
            ],
            "type": "histogram2dcontour"
           }
          ],
          "mesh3d": [
           {
            "colorbar": {
             "outlinewidth": 0,
             "ticks": ""
            },
            "type": "mesh3d"
           }
          ],
          "parcoords": [
           {
            "line": {
             "colorbar": {
              "outlinewidth": 0,
              "ticks": ""
             }
            },
            "type": "parcoords"
           }
          ],
          "pie": [
           {
            "automargin": true,
            "type": "pie"
           }
          ],
          "scatter": [
           {
            "fillpattern": {
             "fillmode": "overlay",
             "size": 10,
             "solidity": 0.2
            },
            "type": "scatter"
           }
          ],
          "scatter3d": [
           {
            "line": {
             "colorbar": {
              "outlinewidth": 0,
              "ticks": ""
             }
            },
            "marker": {
             "colorbar": {
              "outlinewidth": 0,
              "ticks": ""
             }
            },
            "type": "scatter3d"
           }
          ],
          "scattercarpet": [
           {
            "marker": {
             "colorbar": {
              "outlinewidth": 0,
              "ticks": ""
             }
            },
            "type": "scattercarpet"
           }
          ],
          "scattergeo": [
           {
            "marker": {
             "colorbar": {
              "outlinewidth": 0,
              "ticks": ""
             }
            },
            "type": "scattergeo"
           }
          ],
          "scattergl": [
           {
            "marker": {
             "colorbar": {
              "outlinewidth": 0,
              "ticks": ""
             }
            },
            "type": "scattergl"
           }
          ],
          "scattermapbox": [
           {
            "marker": {
             "colorbar": {
              "outlinewidth": 0,
              "ticks": ""
             }
            },
            "type": "scattermapbox"
           }
          ],
          "scatterpolar": [
           {
            "marker": {
             "colorbar": {
              "outlinewidth": 0,
              "ticks": ""
             }
            },
            "type": "scatterpolar"
           }
          ],
          "scatterpolargl": [
           {
            "marker": {
             "colorbar": {
              "outlinewidth": 0,
              "ticks": ""
             }
            },
            "type": "scatterpolargl"
           }
          ],
          "scatterternary": [
           {
            "marker": {
             "colorbar": {
              "outlinewidth": 0,
              "ticks": ""
             }
            },
            "type": "scatterternary"
           }
          ],
          "surface": [
           {
            "colorbar": {
             "outlinewidth": 0,
             "ticks": ""
            },
            "colorscale": [
             [
              0,
              "#0d0887"
             ],
             [
              0.1111111111111111,
              "#46039f"
             ],
             [
              0.2222222222222222,
              "#7201a8"
             ],
             [
              0.3333333333333333,
              "#9c179e"
             ],
             [
              0.4444444444444444,
              "#bd3786"
             ],
             [
              0.5555555555555556,
              "#d8576b"
             ],
             [
              0.6666666666666666,
              "#ed7953"
             ],
             [
              0.7777777777777778,
              "#fb9f3a"
             ],
             [
              0.8888888888888888,
              "#fdca26"
             ],
             [
              1,
              "#f0f921"
             ]
            ],
            "type": "surface"
           }
          ],
          "table": [
           {
            "cells": {
             "fill": {
              "color": "#EBF0F8"
             },
             "line": {
              "color": "white"
             }
            },
            "header": {
             "fill": {
              "color": "#C8D4E3"
             },
             "line": {
              "color": "white"
             }
            },
            "type": "table"
           }
          ]
         },
         "layout": {
          "annotationdefaults": {
           "arrowcolor": "#2a3f5f",
           "arrowhead": 0,
           "arrowwidth": 1
          },
          "autotypenumbers": "strict",
          "coloraxis": {
           "colorbar": {
            "outlinewidth": 0,
            "ticks": ""
           }
          },
          "colorscale": {
           "diverging": [
            [
             0,
             "#8e0152"
            ],
            [
             0.1,
             "#c51b7d"
            ],
            [
             0.2,
             "#de77ae"
            ],
            [
             0.3,
             "#f1b6da"
            ],
            [
             0.4,
             "#fde0ef"
            ],
            [
             0.5,
             "#f7f7f7"
            ],
            [
             0.6,
             "#e6f5d0"
            ],
            [
             0.7,
             "#b8e186"
            ],
            [
             0.8,
             "#7fbc41"
            ],
            [
             0.9,
             "#4d9221"
            ],
            [
             1,
             "#276419"
            ]
           ],
           "sequential": [
            [
             0,
             "#0d0887"
            ],
            [
             0.1111111111111111,
             "#46039f"
            ],
            [
             0.2222222222222222,
             "#7201a8"
            ],
            [
             0.3333333333333333,
             "#9c179e"
            ],
            [
             0.4444444444444444,
             "#bd3786"
            ],
            [
             0.5555555555555556,
             "#d8576b"
            ],
            [
             0.6666666666666666,
             "#ed7953"
            ],
            [
             0.7777777777777778,
             "#fb9f3a"
            ],
            [
             0.8888888888888888,
             "#fdca26"
            ],
            [
             1,
             "#f0f921"
            ]
           ],
           "sequentialminus": [
            [
             0,
             "#0d0887"
            ],
            [
             0.1111111111111111,
             "#46039f"
            ],
            [
             0.2222222222222222,
             "#7201a8"
            ],
            [
             0.3333333333333333,
             "#9c179e"
            ],
            [
             0.4444444444444444,
             "#bd3786"
            ],
            [
             0.5555555555555556,
             "#d8576b"
            ],
            [
             0.6666666666666666,
             "#ed7953"
            ],
            [
             0.7777777777777778,
             "#fb9f3a"
            ],
            [
             0.8888888888888888,
             "#fdca26"
            ],
            [
             1,
             "#f0f921"
            ]
           ]
          },
          "colorway": [
           "#636efa",
           "#EF553B",
           "#00cc96",
           "#ab63fa",
           "#FFA15A",
           "#19d3f3",
           "#FF6692",
           "#B6E880",
           "#FF97FF",
           "#FECB52"
          ],
          "font": {
           "color": "#2a3f5f"
          },
          "geo": {
           "bgcolor": "white",
           "lakecolor": "white",
           "landcolor": "white",
           "showlakes": true,
           "showland": true,
           "subunitcolor": "#C8D4E3"
          },
          "hoverlabel": {
           "align": "left"
          },
          "hovermode": "closest",
          "mapbox": {
           "style": "light"
          },
          "paper_bgcolor": "white",
          "plot_bgcolor": "white",
          "polar": {
           "angularaxis": {
            "gridcolor": "#EBF0F8",
            "linecolor": "#EBF0F8",
            "ticks": ""
           },
           "bgcolor": "white",
           "radialaxis": {
            "gridcolor": "#EBF0F8",
            "linecolor": "#EBF0F8",
            "ticks": ""
           }
          },
          "scene": {
           "xaxis": {
            "backgroundcolor": "white",
            "gridcolor": "#DFE8F3",
            "gridwidth": 2,
            "linecolor": "#EBF0F8",
            "showbackground": true,
            "ticks": "",
            "zerolinecolor": "#EBF0F8"
           },
           "yaxis": {
            "backgroundcolor": "white",
            "gridcolor": "#DFE8F3",
            "gridwidth": 2,
            "linecolor": "#EBF0F8",
            "showbackground": true,
            "ticks": "",
            "zerolinecolor": "#EBF0F8"
           },
           "zaxis": {
            "backgroundcolor": "white",
            "gridcolor": "#DFE8F3",
            "gridwidth": 2,
            "linecolor": "#EBF0F8",
            "showbackground": true,
            "ticks": "",
            "zerolinecolor": "#EBF0F8"
           }
          },
          "shapedefaults": {
           "line": {
            "color": "#2a3f5f"
           }
          },
          "ternary": {
           "aaxis": {
            "gridcolor": "#DFE8F3",
            "linecolor": "#A2B1C6",
            "ticks": ""
           },
           "baxis": {
            "gridcolor": "#DFE8F3",
            "linecolor": "#A2B1C6",
            "ticks": ""
           },
           "bgcolor": "white",
           "caxis": {
            "gridcolor": "#DFE8F3",
            "linecolor": "#A2B1C6",
            "ticks": ""
           }
          },
          "title": {
           "x": 0.05
          },
          "xaxis": {
           "automargin": true,
           "gridcolor": "#EBF0F8",
           "linecolor": "#EBF0F8",
           "ticks": "",
           "title": {
            "standoff": 15
           },
           "zerolinecolor": "#EBF0F8",
           "zerolinewidth": 2
          },
          "yaxis": {
           "automargin": true,
           "gridcolor": "#EBF0F8",
           "linecolor": "#EBF0F8",
           "ticks": "",
           "title": {
            "standoff": 15
           },
           "zerolinecolor": "#EBF0F8",
           "zerolinewidth": 2
          }
         }
        },
        "title": {
         "text": "Sample of Random Portfolios"
        },
        "width": 850,
        "xaxis": {
         "range": [
          0.18,
          0.35
         ],
         "title": {
          "text": "Annualised Risk (Volatility)"
         }
        },
        "yaxis": {
         "range": [
          0.05,
          0.29
         ],
         "title": {
          "text": "Annualised Return"
         }
        }
       }
      },
      "text/html": [
       "<div>                            <div id=\"75296ade-9d60-4c61-8250-894029bbe7a3\" class=\"plotly-graph-div\" style=\"height:500px; width:850px;\"></div>            <script type=\"text/javascript\">                require([\"plotly\"], function(Plotly) {                    window.PLOTLYENV=window.PLOTLYENV || {};                                    if (document.getElementById(\"75296ade-9d60-4c61-8250-894029bbe7a3\")) {                    Plotly.newPlot(                        \"75296ade-9d60-4c61-8250-894029bbe7a3\",                        [{\"marker\":{\"color\":[0.5298937824511352,0.8242736080991917,1.2003998366979542,1.0835378425886115,0.8162271746579148,0.7917583324252493,0.6057858437289405,0.681632775022725,1.1209715632051622,1.0544167744664503,1.1393274145429004,0.8139052485800086,1.2003619073542968,0.28075084482468443,1.2435732573069127,0.3314763609960977,0.3065889477868279,0.6865415090066767,1.1317144557753842,1.0415811186706965,0.43010473348515815,0.702512998261021,1.3472106939825435,1.0328011566918032,1.2036728866517805,0.48367617061753276,0.7340053168564594,0.6518528496861365,1.1497904154500078,1.336928882839714,1.0371155756773394,1.3936313132636113,0.31760059540141444,1.3561021098151498,0.8303290705164215,0.9026439685548253,1.071911654387564,1.2037032041231157,1.0852801813312114,0.6956902813434804,1.0849918013597621,1.2001086694676355,1.1902375871075506,1.244604312667195,1.309803698530082,1.2612165387735073,1.2787691613112495,1.2730409463199697],\"colorbar\":{\"title\":{\"text\":\"Sharpe<br>Ratio\"}},\"colorscale\":[[0.0,\"rgb(103,0,31)\"],[0.1,\"rgb(178,24,43)\"],[0.2,\"rgb(214,96,77)\"],[0.3,\"rgb(244,165,130)\"],[0.4,\"rgb(253,219,199)\"],[0.5,\"rgb(247,247,247)\"],[0.6,\"rgb(209,229,240)\"],[0.7,\"rgb(146,197,222)\"],[0.8,\"rgb(67,147,195)\"],[0.9,\"rgb(33,102,172)\"],[1.0,\"rgb(5,48,97)\"]],\"line\":{\"width\":1},\"showscale\":true,\"size\":7},\"mode\":\"markers\",\"text\":[\"['ZTS' 'DIS' 'KMI' 'NEE' 'T']<br>[0.58 0.07 0.06 0.05 0.24]\",\"['TMO' 'LOW' 'WMT' 'MSFT' 'BDX']<br>[0.24 0.14 0.15 0.25 0.23]\",\"['BMY' 'TSLA' 'PYPL' 'UPS' 'F']<br>[0.16 0.37 0.13 0.23 0.11]\",\"['BMY' 'PM' 'LLY' 'BRK-B' 'TSLA']<br>[0.42 0.25 0.01 0.06 0.26]\",\"['D' 'LLY' 'HON' 'CMI' 'ADBE']<br>[0.2  0.33 0.27 0.19 0.01]\",\"['ZTS' 'MA' 'MSFT' 'UNP' 'NEE']<br>[0.28 0.04 0.16 0.06 0.46]\",\"['UNP' 'AAPL' 'PFE' 'ABBV' 'PEP']<br>[0.33 0.05 0.33 0.15 0.14]\",\"['VZ' 'COST' 'SLB' 'DIS' 'PLD']<br>[0.33 0.34 0.03 0.04 0.27]\",\"['TSLA' 'CMI' 'DE' 'PLD' 'SPGI']<br>[0.16 0.26 0.07 0.28 0.22]\",\"['IBM' 'TSLA' 'V' 'ABBV' 'AON']<br>[0.18 0.14 0.08 0.27 0.34]\",\"['CMCSA' 'TSLA' 'MDT' 'BRK-A' 'BRK-B']<br>[0.1  0.32 0.18 0.14 0.26]\",\"['AON' 'UNH' 'MRK' 'BRK-A' 'HD']<br>[0.11 0.26 0.29 0.23 0.12]\",\"['INTC' 'CMI' 'PFE' 'LLY' 'TSLA']<br>[0.09 0.21 0.27 0.3  0.13]\",\"['BDX' 'HON' 'GOOG' 'BMY' 'PM']<br>[0.26 0.1  0.1  0.3  0.25]\",\"['BDX' 'COST' 'SPGI' 'TSLA' 'ADBE']<br>[0.08 0.15 0.38 0.32 0.07]\",\"['SPGI' 'PFE' 'VZ' 'JNJ' 'CME']<br>[0.05 0.09 0.05 0.51 0.3 ]\",\"['PM' 'AMZN' 'VZ' 'COST' 'LMT']<br>[0.15 0.23 0.31 0.01 0.31]\",\"['PG' 'MCD' 'HD' 'MMC' 'AMGN']<br>[0.23 0.16 0.22 0.17 0.22]\",\"['UNH' 'MMM' 'TSLA' 'SBUX' 'LLY']<br>[0.29 0.17 0.21 0.26 0.06]\",\"['INTC' 'LLY' 'MRK' 'WMT' 'CMCSA']<br>[0.07 0.3  0.39 0.19 0.05]\",\"['BMY' 'DIS' 'NEE' 'WMT' 'PFE']<br>[0.25 0.19 0.27 0.04 0.26]\",\"['BDX' 'NEE' 'PFE' 'PG' 'NVDA']<br>[0.19 0.34 0.13 0.3  0.05]\",\"['LOW' 'WFC' 'TSLA' 'MCD' 'AON']<br>[0.16 0.07 0.32 0.05 0.39]\",\"['LLY' 'COST' 'SLB' 'PG' 'UPS']<br>[0.23 0.23 0.17 0.21 0.15]\",\"['TSLA' 'AMGN' 'LMT' 'UNP' 'BMY']<br>[0.29 0.33 0.09 0.05 0.24]\",\"['WMT' 'MCD' 'PM' 'KMI' 'LMT']<br>[0.21 0.21 0.35 0.09 0.13]\",\"['MMC' 'CMCSA' 'MRK' 'WMT' 'COST']<br>[0.26 0.3  0.27 0.02 0.15]\",\"['KO' 'PG' 'BRK-A' 'AON' 'JNJ']<br>[0.06 0.29 0.33 0.21 0.12]\",\"['NVDA' 'PNC' 'COST' 'TSLA' 'PG']<br>[0.24 0.26 0.24 0.13 0.12]\",\"['CVX' 'TSLA' 'AAPL' 'LOW' 'BRK-A']<br>[0.09 0.32 0.23 0.08 0.28]\",\"['LLY' 'GOOGL' 'TJX' 'CVX' 'MRK']<br>[0.26 0.21 0.17 0.13 0.23]\",\"['NVDA' 'LLY' 'COST' 'F' 'TSLA']<br>[0.23 0.25 0.15 0.22 0.15]\",\"['BRK-A' 'JNJ' 'VZ' 'CMCSA' 'ABT']<br>[0.14 0.19 0.25 0.2  0.23]\",\"['TSLA' 'T' 'LIN' 'UNH' 'WMT']<br>[0.3  0.15 0.18 0.28 0.1 ]\",\"['MRK' 'WMT' 'UNP' 'KO' 'DHR']<br>[0.18 0.27 0.32 0.04 0.2 ]\",\"['MRK' 'TMUS' 'XOM' 'PEP' 'EQIX']<br>[0.29 0.29 0.24 0.1  0.08]\",\"['MRK' 'LLY' 'ISRG' 'GOOGL' 'UNP']<br>[0.32 0.29 0.   0.23 0.15]\",\"['CVS' 'F' 'PFE' 'WMT' 'TSLA']<br>[0.26 0.17 0.11 0.18 0.27]\",\"['DHR' 'JPM' 'TSLA' 'TXN' 'PM']<br>[0.26 0.32 0.19 0.1  0.12]\",\"['UPS' 'MCD' 'BMY' 'TMUS' 'JNJ']<br>[0.21 0.26 0.15 0.22 0.16]\",\"['CME' 'ZTS' 'PEP' 'TSLA' 'BAC']<br>[0.31 0.06 0.26 0.23 0.15]\",\"['CMCSA' 'ABBV' 'TSLA' 'PG' 'JCI']<br>[0.26 0.12 0.25 0.19 0.18]\",\"['LLY' 'ADP' 'JCI' 'JNJ' 'GOOG']<br>[0.67 0.04 0.05 0.13 0.11]\",\"['HD' 'VZ' 'TSLA' 'HON' 'INTC']<br>[0.08 0.28 0.48 0.08 0.08]\",\"['XOM' 'GOOG' 'LMT' 'TSLA' 'ISRG']<br>[0.2  0.22 0.15 0.41 0.02]\",\"['TSLA' 'CME' 'CRM' 'NEE' 'SPGI']<br>[0.43 0.19 0.17 0.19 0.02]\",\"['TSLA' 'AAPL' 'CME' 'ADP' 'WMT']<br>[0.22 0.26 0.23 0.04 0.25]\",\"['F' 'TSLA' 'BRK-A' 'ADP' 'TJX']<br>[0.14 0.37 0.12 0.24 0.13]\"],\"x\":[0.22610744624603896,0.21505422347335146,0.3346487396310838,0.2494387534329807,0.2126876908223392,0.2320568174563521,0.20241122210802212,0.19129591017052114,0.2634629673779726,0.22670764129915758,0.2905564195063463,0.19960040816003535,0.22406053249798183,0.18904864871935598,0.31775203323190765,0.18860929453920838,0.18408362320866425,0.1928376584847874,0.26288884740259016,0.19755431875617,0.1904875928468033,0.19646088414574162,0.31073729617078516,0.20191511911368112,0.265197213400673,0.1905795545828849,0.19089109006472202,0.18150612431797833,0.2833887738950865,0.31928485751235414,0.21164084337089234,0.2938119135174874,0.1807529894220345,0.27906584055388056,0.1878094600351672,0.19721794397586406,0.20749967701465388,0.2706694083101702,0.2620140760068784,0.18309122634949257,0.2623817883063413,0.25425046146504315,0.24143041611784685,0.3594039045279878,0.34677500959507707,0.3649933764494809,0.2637641570892692,0.33975033722855624],\"y\":[0.1549129299316803,0.21236352071934927,0.4368122924043293,0.30537632875276455,0.20870147296443406,0.2188329188171518,0.15771785296491414,0.16549356210003024,0.3304344943883566,0.27414433988555476,0.3661388942150079,0.19755581982016474,0.3040537281520969,0.08817556784092419,0.4302479309820978,0.09761952260389795,0.09153800434433126,0.1674910570494601,0.3326151088676404,0.24086884832827887,0.11702961535360366,0.173116324762236,0.4537286084205026,0.2436381685741731,0.3543106953859963,0.12727878915864482,0.17521507504803122,0.15341528437216034,0.36093769607069986,0.4619611478616289,0.25459601510944063,0.4445654828878706,0.09250725706102372,0.41354177515245566,0.19104365438519139,0.21311758762059713,0.2575213220736628,0.3609056340410598,0.31945868392007487,0.16247478677060134,0.31978208913849304,0.3402281830203453,0.32245955593447795,0.4824156495649625,0.48930719012543666,0.49543568292087004,0.3723934699450135,0.46761609081797006],\"type\":\"scatter\"}],                        {\"template\":{\"data\":{\"barpolar\":[{\"marker\":{\"line\":{\"color\":\"white\",\"width\":0.5},\"pattern\":{\"fillmode\":\"overlay\",\"size\":10,\"solidity\":0.2}},\"type\":\"barpolar\"}],\"bar\":[{\"error_x\":{\"color\":\"#2a3f5f\"},\"error_y\":{\"color\":\"#2a3f5f\"},\"marker\":{\"line\":{\"color\":\"white\",\"width\":0.5},\"pattern\":{\"fillmode\":\"overlay\",\"size\":10,\"solidity\":0.2}},\"type\":\"bar\"}],\"carpet\":[{\"aaxis\":{\"endlinecolor\":\"#2a3f5f\",\"gridcolor\":\"#C8D4E3\",\"linecolor\":\"#C8D4E3\",\"minorgridcolor\":\"#C8D4E3\",\"startlinecolor\":\"#2a3f5f\"},\"baxis\":{\"endlinecolor\":\"#2a3f5f\",\"gridcolor\":\"#C8D4E3\",\"linecolor\":\"#C8D4E3\",\"minorgridcolor\":\"#C8D4E3\",\"startlinecolor\":\"#2a3f5f\"},\"type\":\"carpet\"}],\"choropleth\":[{\"colorbar\":{\"outlinewidth\":0,\"ticks\":\"\"},\"type\":\"choropleth\"}],\"contourcarpet\":[{\"colorbar\":{\"outlinewidth\":0,\"ticks\":\"\"},\"type\":\"contourcarpet\"}],\"contour\":[{\"colorbar\":{\"outlinewidth\":0,\"ticks\":\"\"},\"colorscale\":[[0.0,\"#0d0887\"],[0.1111111111111111,\"#46039f\"],[0.2222222222222222,\"#7201a8\"],[0.3333333333333333,\"#9c179e\"],[0.4444444444444444,\"#bd3786\"],[0.5555555555555556,\"#d8576b\"],[0.6666666666666666,\"#ed7953\"],[0.7777777777777778,\"#fb9f3a\"],[0.8888888888888888,\"#fdca26\"],[1.0,\"#f0f921\"]],\"type\":\"contour\"}],\"heatmapgl\":[{\"colorbar\":{\"outlinewidth\":0,\"ticks\":\"\"},\"colorscale\":[[0.0,\"#0d0887\"],[0.1111111111111111,\"#46039f\"],[0.2222222222222222,\"#7201a8\"],[0.3333333333333333,\"#9c179e\"],[0.4444444444444444,\"#bd3786\"],[0.5555555555555556,\"#d8576b\"],[0.6666666666666666,\"#ed7953\"],[0.7777777777777778,\"#fb9f3a\"],[0.8888888888888888,\"#fdca26\"],[1.0,\"#f0f921\"]],\"type\":\"heatmapgl\"}],\"heatmap\":[{\"colorbar\":{\"outlinewidth\":0,\"ticks\":\"\"},\"colorscale\":[[0.0,\"#0d0887\"],[0.1111111111111111,\"#46039f\"],[0.2222222222222222,\"#7201a8\"],[0.3333333333333333,\"#9c179e\"],[0.4444444444444444,\"#bd3786\"],[0.5555555555555556,\"#d8576b\"],[0.6666666666666666,\"#ed7953\"],[0.7777777777777778,\"#fb9f3a\"],[0.8888888888888888,\"#fdca26\"],[1.0,\"#f0f921\"]],\"type\":\"heatmap\"}],\"histogram2dcontour\":[{\"colorbar\":{\"outlinewidth\":0,\"ticks\":\"\"},\"colorscale\":[[0.0,\"#0d0887\"],[0.1111111111111111,\"#46039f\"],[0.2222222222222222,\"#7201a8\"],[0.3333333333333333,\"#9c179e\"],[0.4444444444444444,\"#bd3786\"],[0.5555555555555556,\"#d8576b\"],[0.6666666666666666,\"#ed7953\"],[0.7777777777777778,\"#fb9f3a\"],[0.8888888888888888,\"#fdca26\"],[1.0,\"#f0f921\"]],\"type\":\"histogram2dcontour\"}],\"histogram2d\":[{\"colorbar\":{\"outlinewidth\":0,\"ticks\":\"\"},\"colorscale\":[[0.0,\"#0d0887\"],[0.1111111111111111,\"#46039f\"],[0.2222222222222222,\"#7201a8\"],[0.3333333333333333,\"#9c179e\"],[0.4444444444444444,\"#bd3786\"],[0.5555555555555556,\"#d8576b\"],[0.6666666666666666,\"#ed7953\"],[0.7777777777777778,\"#fb9f3a\"],[0.8888888888888888,\"#fdca26\"],[1.0,\"#f0f921\"]],\"type\":\"histogram2d\"}],\"histogram\":[{\"marker\":{\"pattern\":{\"fillmode\":\"overlay\",\"size\":10,\"solidity\":0.2}},\"type\":\"histogram\"}],\"mesh3d\":[{\"colorbar\":{\"outlinewidth\":0,\"ticks\":\"\"},\"type\":\"mesh3d\"}],\"parcoords\":[{\"line\":{\"colorbar\":{\"outlinewidth\":0,\"ticks\":\"\"}},\"type\":\"parcoords\"}],\"pie\":[{\"automargin\":true,\"type\":\"pie\"}],\"scatter3d\":[{\"line\":{\"colorbar\":{\"outlinewidth\":0,\"ticks\":\"\"}},\"marker\":{\"colorbar\":{\"outlinewidth\":0,\"ticks\":\"\"}},\"type\":\"scatter3d\"}],\"scattercarpet\":[{\"marker\":{\"colorbar\":{\"outlinewidth\":0,\"ticks\":\"\"}},\"type\":\"scattercarpet\"}],\"scattergeo\":[{\"marker\":{\"colorbar\":{\"outlinewidth\":0,\"ticks\":\"\"}},\"type\":\"scattergeo\"}],\"scattergl\":[{\"marker\":{\"colorbar\":{\"outlinewidth\":0,\"ticks\":\"\"}},\"type\":\"scattergl\"}],\"scattermapbox\":[{\"marker\":{\"colorbar\":{\"outlinewidth\":0,\"ticks\":\"\"}},\"type\":\"scattermapbox\"}],\"scatterpolargl\":[{\"marker\":{\"colorbar\":{\"outlinewidth\":0,\"ticks\":\"\"}},\"type\":\"scatterpolargl\"}],\"scatterpolar\":[{\"marker\":{\"colorbar\":{\"outlinewidth\":0,\"ticks\":\"\"}},\"type\":\"scatterpolar\"}],\"scatter\":[{\"fillpattern\":{\"fillmode\":\"overlay\",\"size\":10,\"solidity\":0.2},\"type\":\"scatter\"}],\"scatterternary\":[{\"marker\":{\"colorbar\":{\"outlinewidth\":0,\"ticks\":\"\"}},\"type\":\"scatterternary\"}],\"surface\":[{\"colorbar\":{\"outlinewidth\":0,\"ticks\":\"\"},\"colorscale\":[[0.0,\"#0d0887\"],[0.1111111111111111,\"#46039f\"],[0.2222222222222222,\"#7201a8\"],[0.3333333333333333,\"#9c179e\"],[0.4444444444444444,\"#bd3786\"],[0.5555555555555556,\"#d8576b\"],[0.6666666666666666,\"#ed7953\"],[0.7777777777777778,\"#fb9f3a\"],[0.8888888888888888,\"#fdca26\"],[1.0,\"#f0f921\"]],\"type\":\"surface\"}],\"table\":[{\"cells\":{\"fill\":{\"color\":\"#EBF0F8\"},\"line\":{\"color\":\"white\"}},\"header\":{\"fill\":{\"color\":\"#C8D4E3\"},\"line\":{\"color\":\"white\"}},\"type\":\"table\"}]},\"layout\":{\"annotationdefaults\":{\"arrowcolor\":\"#2a3f5f\",\"arrowhead\":0,\"arrowwidth\":1},\"autotypenumbers\":\"strict\",\"coloraxis\":{\"colorbar\":{\"outlinewidth\":0,\"ticks\":\"\"}},\"colorscale\":{\"diverging\":[[0,\"#8e0152\"],[0.1,\"#c51b7d\"],[0.2,\"#de77ae\"],[0.3,\"#f1b6da\"],[0.4,\"#fde0ef\"],[0.5,\"#f7f7f7\"],[0.6,\"#e6f5d0\"],[0.7,\"#b8e186\"],[0.8,\"#7fbc41\"],[0.9,\"#4d9221\"],[1,\"#276419\"]],\"sequential\":[[0.0,\"#0d0887\"],[0.1111111111111111,\"#46039f\"],[0.2222222222222222,\"#7201a8\"],[0.3333333333333333,\"#9c179e\"],[0.4444444444444444,\"#bd3786\"],[0.5555555555555556,\"#d8576b\"],[0.6666666666666666,\"#ed7953\"],[0.7777777777777778,\"#fb9f3a\"],[0.8888888888888888,\"#fdca26\"],[1.0,\"#f0f921\"]],\"sequentialminus\":[[0.0,\"#0d0887\"],[0.1111111111111111,\"#46039f\"],[0.2222222222222222,\"#7201a8\"],[0.3333333333333333,\"#9c179e\"],[0.4444444444444444,\"#bd3786\"],[0.5555555555555556,\"#d8576b\"],[0.6666666666666666,\"#ed7953\"],[0.7777777777777778,\"#fb9f3a\"],[0.8888888888888888,\"#fdca26\"],[1.0,\"#f0f921\"]]},\"colorway\":[\"#636efa\",\"#EF553B\",\"#00cc96\",\"#ab63fa\",\"#FFA15A\",\"#19d3f3\",\"#FF6692\",\"#B6E880\",\"#FF97FF\",\"#FECB52\"],\"font\":{\"color\":\"#2a3f5f\"},\"geo\":{\"bgcolor\":\"white\",\"lakecolor\":\"white\",\"landcolor\":\"white\",\"showlakes\":true,\"showland\":true,\"subunitcolor\":\"#C8D4E3\"},\"hoverlabel\":{\"align\":\"left\"},\"hovermode\":\"closest\",\"mapbox\":{\"style\":\"light\"},\"paper_bgcolor\":\"white\",\"plot_bgcolor\":\"white\",\"polar\":{\"angularaxis\":{\"gridcolor\":\"#EBF0F8\",\"linecolor\":\"#EBF0F8\",\"ticks\":\"\"},\"bgcolor\":\"white\",\"radialaxis\":{\"gridcolor\":\"#EBF0F8\",\"linecolor\":\"#EBF0F8\",\"ticks\":\"\"}},\"scene\":{\"xaxis\":{\"backgroundcolor\":\"white\",\"gridcolor\":\"#DFE8F3\",\"gridwidth\":2,\"linecolor\":\"#EBF0F8\",\"showbackground\":true,\"ticks\":\"\",\"zerolinecolor\":\"#EBF0F8\"},\"yaxis\":{\"backgroundcolor\":\"white\",\"gridcolor\":\"#DFE8F3\",\"gridwidth\":2,\"linecolor\":\"#EBF0F8\",\"showbackground\":true,\"ticks\":\"\",\"zerolinecolor\":\"#EBF0F8\"},\"zaxis\":{\"backgroundcolor\":\"white\",\"gridcolor\":\"#DFE8F3\",\"gridwidth\":2,\"linecolor\":\"#EBF0F8\",\"showbackground\":true,\"ticks\":\"\",\"zerolinecolor\":\"#EBF0F8\"}},\"shapedefaults\":{\"line\":{\"color\":\"#2a3f5f\"}},\"ternary\":{\"aaxis\":{\"gridcolor\":\"#DFE8F3\",\"linecolor\":\"#A2B1C6\",\"ticks\":\"\"},\"baxis\":{\"gridcolor\":\"#DFE8F3\",\"linecolor\":\"#A2B1C6\",\"ticks\":\"\"},\"bgcolor\":\"white\",\"caxis\":{\"gridcolor\":\"#DFE8F3\",\"linecolor\":\"#A2B1C6\",\"ticks\":\"\"}},\"title\":{\"x\":0.05},\"xaxis\":{\"automargin\":true,\"gridcolor\":\"#EBF0F8\",\"linecolor\":\"#EBF0F8\",\"ticks\":\"\",\"title\":{\"standoff\":15},\"zerolinecolor\":\"#EBF0F8\",\"zerolinewidth\":2},\"yaxis\":{\"automargin\":true,\"gridcolor\":\"#EBF0F8\",\"linecolor\":\"#EBF0F8\",\"ticks\":\"\",\"title\":{\"standoff\":15},\"zerolinecolor\":\"#EBF0F8\",\"zerolinewidth\":2}}},\"xaxis\":{\"title\":{\"text\":\"Annualised Risk (Volatility)\"},\"range\":[0.18,0.35]},\"yaxis\":{\"title\":{\"text\":\"Annualised Return\"},\"range\":[0.05,0.29]},\"title\":{\"text\":\"Sample of Random Portfolios\"},\"width\":850,\"height\":500,\"coloraxis\":{\"colorbar\":{\"title\":{\"text\":\"Sharpe Ratio\"}}}},                        {\"responsive\": true}                    ).then(function(){\n",
       "                            \n",
       "var gd = document.getElementById('75296ade-9d60-4c61-8250-894029bbe7a3');\n",
       "var x = new MutationObserver(function (mutations, observer) {{\n",
       "        var display = window.getComputedStyle(gd).display;\n",
       "        if (!display || display === 'none') {{\n",
       "            console.log([gd, 'removed!']);\n",
       "            Plotly.purge(gd);\n",
       "            observer.disconnect();\n",
       "        }}\n",
       "}});\n",
       "\n",
       "// Listen for the removal of the full notebook cells\n",
       "var notebookContainer = gd.closest('#notebook-container');\n",
       "if (notebookContainer) {{\n",
       "    x.observe(notebookContainer, {childList: true});\n",
       "}}\n",
       "\n",
       "// Listen for the clearing of the current output cell\n",
       "var outputEl = gd.closest('.output');\n",
       "if (outputEl) {{\n",
       "    x.observe(outputEl, {childList: true});\n",
       "}}\n",
       "\n",
       "                        })                };                });            </script>        </div>"
      ]
     },
     "metadata": {},
     "output_type": "display_data"
    }
   ],
   "source": [
    "import plotly\n",
    "import plotly.graph_objects as go\n",
    "from plotly.subplots import make_subplots\n",
    "import plotly.express as px\n",
    "import plotly.figure_factory as ff\n",
    "\n",
    "# Plot risk vs return\n",
    "mean_var = np.array(mean_var)\n",
    "\n",
    "# Risk free rate\n",
    "Rf = 0.0351 # Ten year treassury bond rate\n",
    "\n",
    "fig = go.Figure()\n",
    "fig.add_trace(go.Scatter(x = mean_var[:,1]**0.5, y = mean_var[:,0],\n",
    "                          marker =dict(color=(mean_var[:,0]-Rf)/(mean_var[:,1]**0.5), \n",
    "                                  showscale=True, \n",
    "                                  size=7,\n",
    "                                  line=dict(width=1),\n",
    "                                  colorscale=\"RdBu\",\n",
    "                                  colorbar=dict(title=\"Sharpe<br>Ratio\")\n",
    "                                 ),\n",
    "              mode = 'markers',\n",
    "              text = [str(np.array(tickers_list[i])) + \"<br>\" + str(np.array(weights_list[i]).round(2)) for i in range(len(tickers_list))]\n",
    "              )\n",
    ")\n",
    "fig.update_layout(template='plotly_white',xaxis=dict(title='Annualised Risk (Volatility)'),\n",
    "                  yaxis=dict(title='Annualised Return'),\n",
    "                  title='Sample of Random Portfolios',\n",
    "                  width=850,\n",
    "                  height=500)\n",
    "fig.update_xaxes(range=[0.18, 0.35])\n",
    "fig.update_yaxes(range=[0.05,0.29])\n",
    "fig.update_layout(coloraxis_colorbar=dict(title=\"Sharpe Ratio\"))\n",
    "              \n",
    "\n"
   ]
  },
  {
   "cell_type": "code",
   "execution_count": 118,
   "id": "516d84ca",
   "metadata": {},
   "outputs": [
    {
     "data": {
      "text/plain": [
       "[array(['ZTS', 'DIS', 'KMI', 'NEE', 'T'], dtype='<U5'),\n",
       " array(['TMO', 'LOW', 'WMT', 'MSFT', 'BDX'], dtype='<U5'),\n",
       " array(['BMY', 'TSLA', 'PYPL', 'UPS', 'F'], dtype='<U5'),\n",
       " array(['BMY', 'PM', 'LLY', 'BRK-B', 'TSLA'], dtype='<U5'),\n",
       " array(['D', 'LLY', 'HON', 'CMI', 'ADBE'], dtype='<U5'),\n",
       " array(['ZTS', 'MA', 'MSFT', 'UNP', 'NEE'], dtype='<U5'),\n",
       " array(['UNP', 'AAPL', 'PFE', 'ABBV', 'PEP'], dtype='<U5'),\n",
       " array(['VZ', 'COST', 'SLB', 'DIS', 'PLD'], dtype='<U5'),\n",
       " array(['TSLA', 'CMI', 'DE', 'PLD', 'SPGI'], dtype='<U5'),\n",
       " array(['IBM', 'TSLA', 'V', 'ABBV', 'AON'], dtype='<U5'),\n",
       " array(['CMCSA', 'TSLA', 'MDT', 'BRK-A', 'BRK-B'], dtype='<U5'),\n",
       " array(['AON', 'UNH', 'MRK', 'BRK-A', 'HD'], dtype='<U5'),\n",
       " array(['INTC', 'CMI', 'PFE', 'LLY', 'TSLA'], dtype='<U5'),\n",
       " array(['BDX', 'HON', 'GOOG', 'BMY', 'PM'], dtype='<U5'),\n",
       " array(['BDX', 'COST', 'SPGI', 'TSLA', 'ADBE'], dtype='<U5'),\n",
       " array(['SPGI', 'PFE', 'VZ', 'JNJ', 'CME'], dtype='<U5'),\n",
       " array(['PM', 'AMZN', 'VZ', 'COST', 'LMT'], dtype='<U5'),\n",
       " array(['PG', 'MCD', 'HD', 'MMC', 'AMGN'], dtype='<U5'),\n",
       " array(['UNH', 'MMM', 'TSLA', 'SBUX', 'LLY'], dtype='<U5'),\n",
       " array(['INTC', 'LLY', 'MRK', 'WMT', 'CMCSA'], dtype='<U5'),\n",
       " array(['BMY', 'DIS', 'NEE', 'WMT', 'PFE'], dtype='<U5'),\n",
       " array(['BDX', 'NEE', 'PFE', 'PG', 'NVDA'], dtype='<U5'),\n",
       " array(['LOW', 'WFC', 'TSLA', 'MCD', 'AON'], dtype='<U5'),\n",
       " array(['LLY', 'COST', 'SLB', 'PG', 'UPS'], dtype='<U5'),\n",
       " array(['TSLA', 'AMGN', 'LMT', 'UNP', 'BMY'], dtype='<U5'),\n",
       " array(['WMT', 'MCD', 'PM', 'KMI', 'LMT'], dtype='<U5'),\n",
       " array(['MMC', 'CMCSA', 'MRK', 'WMT', 'COST'], dtype='<U5'),\n",
       " array(['KO', 'PG', 'BRK-A', 'AON', 'JNJ'], dtype='<U5'),\n",
       " array(['NVDA', 'PNC', 'COST', 'TSLA', 'PG'], dtype='<U5'),\n",
       " array(['CVX', 'TSLA', 'AAPL', 'LOW', 'BRK-A'], dtype='<U5'),\n",
       " array(['LLY', 'GOOGL', 'TJX', 'CVX', 'MRK'], dtype='<U5'),\n",
       " array(['NVDA', 'LLY', 'COST', 'F', 'TSLA'], dtype='<U5'),\n",
       " array(['BRK-A', 'JNJ', 'VZ', 'CMCSA', 'ABT'], dtype='<U5'),\n",
       " array(['TSLA', 'T', 'LIN', 'UNH', 'WMT'], dtype='<U5'),\n",
       " array(['MRK', 'WMT', 'UNP', 'KO', 'DHR'], dtype='<U5'),\n",
       " array(['MRK', 'TMUS', 'XOM', 'PEP', 'EQIX'], dtype='<U5'),\n",
       " array(['MRK', 'LLY', 'ISRG', 'GOOGL', 'UNP'], dtype='<U5'),\n",
       " array(['CVS', 'F', 'PFE', 'WMT', 'TSLA'], dtype='<U5'),\n",
       " array(['DHR', 'JPM', 'TSLA', 'TXN', 'PM'], dtype='<U5'),\n",
       " array(['UPS', 'MCD', 'BMY', 'TMUS', 'JNJ'], dtype='<U5'),\n",
       " array(['CME', 'ZTS', 'PEP', 'TSLA', 'BAC'], dtype='<U5'),\n",
       " array(['CMCSA', 'ABBV', 'TSLA', 'PG', 'JCI'], dtype='<U5'),\n",
       " array(['LLY', 'ADP', 'JCI', 'JNJ', 'GOOG'], dtype='<U5'),\n",
       " array(['HD', 'VZ', 'TSLA', 'HON', 'INTC'], dtype='<U5'),\n",
       " array(['XOM', 'GOOG', 'LMT', 'TSLA', 'ISRG'], dtype='<U5'),\n",
       " array(['TSLA', 'CME', 'CRM', 'NEE', 'SPGI'], dtype='<U5'),\n",
       " array(['TSLA', 'AAPL', 'CME', 'ADP', 'WMT'], dtype='<U5'),\n",
       " array(['F', 'TSLA', 'BRK-A', 'ADP', 'TJX'], dtype='<U5')]"
      ]
     },
     "execution_count": 118,
     "metadata": {},
     "output_type": "execute_result"
    }
   ],
   "source": [
    "tickers_list"
   ]
  },
  {
   "cell_type": "code",
   "execution_count": null,
   "id": "9db7cd6b",
   "metadata": {},
   "outputs": [],
   "source": []
  }
 ],
 "metadata": {
  "kernelspec": {
   "display_name": "Python 3 (ipykernel)",
   "language": "python",
   "name": "python3"
  },
  "language_info": {
   "codemirror_mode": {
    "name": "ipython",
    "version": 3
   },
   "file_extension": ".py",
   "mimetype": "text/x-python",
   "name": "python",
   "nbconvert_exporter": "python",
   "pygments_lexer": "ipython3",
   "version": "3.9.13"
  }
 },
 "nbformat": 4,
 "nbformat_minor": 5
}
